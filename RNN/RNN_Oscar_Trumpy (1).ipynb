{
 "cells": [
  {
   "cell_type": "code",
   "execution_count": 723,
   "metadata": {
    "tags": []
   },
   "outputs": [
    {
     "name": "stdout",
     "output_type": "stream",
     "text": [
      "PhysicalDevice(name='/physical_device:GPU:0', device_type='GPU')\n"
     ]
    }
   ],
   "source": [
    "\n",
    "import tensorflow as tf\n",
    "    \n",
    "# tf.config.experimental.set_visible_devices([], 'GPU')\n",
    "# tf.debugging.set_log_device_placement(True)\n",
    "for gpu in tf.config.experimental.list_physical_devices('GPU'):\n",
    "    print(gpu)\n",
    "    tf.config.experimental.set_memory_growth(gpu, True)"
   ]
  },
  {
   "cell_type": "code",
   "execution_count": 724,
   "metadata": {
    "tags": []
   },
   "outputs": [
    {
     "data": {
      "text/html": [
       "<div>\n",
       "<style scoped>\n",
       "    .dataframe tbody tr th:only-of-type {\n",
       "        vertical-align: middle;\n",
       "    }\n",
       "\n",
       "    .dataframe tbody tr th {\n",
       "        vertical-align: top;\n",
       "    }\n",
       "\n",
       "    .dataframe thead th {\n",
       "        text-align: right;\n",
       "    }\n",
       "</style>\n",
       "<table border=\"1\" class=\"dataframe\">\n",
       "  <thead>\n",
       "    <tr style=\"text-align: right;\">\n",
       "      <th></th>\n",
       "      <th>temperature</th>\n",
       "      <th>humidity</th>\n",
       "      <th>pressure</th>\n",
       "      <th>wind_speed</th>\n",
       "      <th>city_Albuquerque</th>\n",
       "      <th>city_Atlanta</th>\n",
       "      <th>city_Boston</th>\n",
       "      <th>city_Charlotte</th>\n",
       "      <th>city_Chicago</th>\n",
       "      <th>city_Dallas</th>\n",
       "      <th>...</th>\n",
       "      <th>day_of_week_cos</th>\n",
       "      <th>month_sin</th>\n",
       "      <th>month_cos</th>\n",
       "      <th>city_Haifa</th>\n",
       "      <th>city_Jerusalem</th>\n",
       "      <th>city_Nahariyya</th>\n",
       "      <th>city_New York</th>\n",
       "      <th>city_Portland</th>\n",
       "      <th>city_San Francisco</th>\n",
       "      <th>city_Tel Aviv District</th>\n",
       "    </tr>\n",
       "  </thead>\n",
       "  <tbody>\n",
       "    <tr>\n",
       "      <th>0</th>\n",
       "      <td>292.03</td>\n",
       "      <td>49.0</td>\n",
       "      <td>1027.0</td>\n",
       "      <td>3.0</td>\n",
       "      <td>True</td>\n",
       "      <td>False</td>\n",
       "      <td>False</td>\n",
       "      <td>False</td>\n",
       "      <td>False</td>\n",
       "      <td>False</td>\n",
       "      <td>...</td>\n",
       "      <td>-0.222521</td>\n",
       "      <td>1.224647e-16</td>\n",
       "      <td>-1.0</td>\n",
       "      <td>0</td>\n",
       "      <td>0</td>\n",
       "      <td>0</td>\n",
       "      <td>0</td>\n",
       "      <td>0</td>\n",
       "      <td>0</td>\n",
       "      <td>0</td>\n",
       "    </tr>\n",
       "    <tr>\n",
       "      <th>1</th>\n",
       "      <td>292.07</td>\n",
       "      <td>56.0</td>\n",
       "      <td>1027.0</td>\n",
       "      <td>3.0</td>\n",
       "      <td>True</td>\n",
       "      <td>False</td>\n",
       "      <td>False</td>\n",
       "      <td>False</td>\n",
       "      <td>False</td>\n",
       "      <td>False</td>\n",
       "      <td>...</td>\n",
       "      <td>-0.222521</td>\n",
       "      <td>1.224647e-16</td>\n",
       "      <td>-1.0</td>\n",
       "      <td>0</td>\n",
       "      <td>0</td>\n",
       "      <td>0</td>\n",
       "      <td>0</td>\n",
       "      <td>0</td>\n",
       "      <td>0</td>\n",
       "      <td>0</td>\n",
       "    </tr>\n",
       "    <tr>\n",
       "      <th>2</th>\n",
       "      <td>295.62</td>\n",
       "      <td>49.0</td>\n",
       "      <td>1028.0</td>\n",
       "      <td>2.0</td>\n",
       "      <td>True</td>\n",
       "      <td>False</td>\n",
       "      <td>False</td>\n",
       "      <td>False</td>\n",
       "      <td>False</td>\n",
       "      <td>False</td>\n",
       "      <td>...</td>\n",
       "      <td>-0.222521</td>\n",
       "      <td>1.224647e-16</td>\n",
       "      <td>-1.0</td>\n",
       "      <td>0</td>\n",
       "      <td>0</td>\n",
       "      <td>0</td>\n",
       "      <td>0</td>\n",
       "      <td>0</td>\n",
       "      <td>0</td>\n",
       "      <td>0</td>\n",
       "    </tr>\n",
       "    <tr>\n",
       "      <th>3</th>\n",
       "      <td>296.63</td>\n",
       "      <td>44.0</td>\n",
       "      <td>1028.0</td>\n",
       "      <td>3.0</td>\n",
       "      <td>True</td>\n",
       "      <td>False</td>\n",
       "      <td>False</td>\n",
       "      <td>False</td>\n",
       "      <td>False</td>\n",
       "      <td>False</td>\n",
       "      <td>...</td>\n",
       "      <td>-0.222521</td>\n",
       "      <td>1.224647e-16</td>\n",
       "      <td>-1.0</td>\n",
       "      <td>0</td>\n",
       "      <td>0</td>\n",
       "      <td>0</td>\n",
       "      <td>0</td>\n",
       "      <td>0</td>\n",
       "      <td>0</td>\n",
       "      <td>0</td>\n",
       "    </tr>\n",
       "    <tr>\n",
       "      <th>4</th>\n",
       "      <td>299.15</td>\n",
       "      <td>36.0</td>\n",
       "      <td>1027.0</td>\n",
       "      <td>3.0</td>\n",
       "      <td>True</td>\n",
       "      <td>False</td>\n",
       "      <td>False</td>\n",
       "      <td>False</td>\n",
       "      <td>False</td>\n",
       "      <td>False</td>\n",
       "      <td>...</td>\n",
       "      <td>-0.222521</td>\n",
       "      <td>1.224647e-16</td>\n",
       "      <td>-1.0</td>\n",
       "      <td>0</td>\n",
       "      <td>0</td>\n",
       "      <td>0</td>\n",
       "      <td>0</td>\n",
       "      <td>0</td>\n",
       "      <td>0</td>\n",
       "      <td>0</td>\n",
       "    </tr>\n",
       "  </tbody>\n",
       "</table>\n",
       "<p>5 rows × 45 columns</p>\n",
       "</div>"
      ],
      "text/plain": [
       "   temperature  humidity  pressure  wind_speed  city_Albuquerque  \\\n",
       "0       292.03      49.0    1027.0         3.0              True   \n",
       "1       292.07      56.0    1027.0         3.0              True   \n",
       "2       295.62      49.0    1028.0         2.0              True   \n",
       "3       296.63      44.0    1028.0         3.0              True   \n",
       "4       299.15      36.0    1027.0         3.0              True   \n",
       "\n",
       "   city_Atlanta  city_Boston  city_Charlotte  city_Chicago  city_Dallas  ...  \\\n",
       "0         False        False           False         False        False  ...   \n",
       "1         False        False           False         False        False  ...   \n",
       "2         False        False           False         False        False  ...   \n",
       "3         False        False           False         False        False  ...   \n",
       "4         False        False           False         False        False  ...   \n",
       "\n",
       "   day_of_week_cos     month_sin  month_cos  city_Haifa  city_Jerusalem  \\\n",
       "0        -0.222521  1.224647e-16       -1.0           0               0   \n",
       "1        -0.222521  1.224647e-16       -1.0           0               0   \n",
       "2        -0.222521  1.224647e-16       -1.0           0               0   \n",
       "3        -0.222521  1.224647e-16       -1.0           0               0   \n",
       "4        -0.222521  1.224647e-16       -1.0           0               0   \n",
       "\n",
       "   city_Nahariyya  city_New York  city_Portland  city_San Francisco  \\\n",
       "0               0              0              0                   0   \n",
       "1               0              0              0                   0   \n",
       "2               0              0              0                   0   \n",
       "3               0              0              0                   0   \n",
       "4               0              0              0                   0   \n",
       "\n",
       "   city_Tel Aviv District  \n",
       "0                       0  \n",
       "1                       0  \n",
       "2                       0  \n",
       "3                       0  \n",
       "4                       0  \n",
       "\n",
       "[5 rows x 45 columns]"
      ]
     },
     "execution_count": 724,
     "metadata": {},
     "output_type": "execute_result"
    }
   ],
   "source": [
    "score_X.head()"
   ]
  },
  {
   "cell_type": "code",
   "execution_count": 725,
   "metadata": {
    "tags": []
   },
   "outputs": [
    {
     "data": {
      "text/plain": [
       "653352"
      ]
     },
     "execution_count": 725,
     "metadata": {},
     "output_type": "execute_result"
    }
   ],
   "source": [
    "653356 - (653356 % 24)\n"
   ]
  },
  {
   "cell_type": "code",
   "execution_count": 726,
   "metadata": {
    "colab": {},
    "colab_type": "code",
    "id": "jw0pLcPHAswy",
    "tags": []
   },
   "outputs": [],
   "source": [
    "import tensorflow as tf\n",
    "import pandas as pd\n",
    "import matplotlib.pyplot as plt\n",
    "import seaborn as sns\n",
    "import numpy as np\n",
    "%config InlineBackend.figure_format = 'retina'\n",
    "sns.set_context('talk')"
   ]
  },
  {
   "cell_type": "code",
   "execution_count": 727,
   "metadata": {
    "colab": {},
    "colab_type": "code",
    "id": "2exSjhzKAsw0",
    "tags": []
   },
   "outputs": [],
   "source": [
    "%%capture\n",
    "prefix = 'https://danylo-ucla.s3-us-west-2.amazonaws.com/app/storage/weather/jobs/transform_batch/20220925-014051_e32aa567fa482e970513332d1d24fd51'\n",
    "\n",
    "train_X = pd.read_parquet(f'{prefix}/train_x.parquet')\n",
    "train_y = pd.read_parquet(f'{prefix}/train_y.parquet')\n",
    "\n",
    "validate_X = pd.read_parquet(f'{prefix}/validate_x.parquet')\n",
    "validate_y = pd.read_parquet(f'{prefix}/validate_y.parquet')\n",
    "\n",
    "test_X = pd.read_parquet(f'{prefix}/test_x.parquet')\n",
    "test_y = pd.read_parquet(f'{prefix}/test_y.parquet')\n",
    "\n",
    "score_X = pd.read_parquet(f'{prefix}/score_x.parquet')\n",
    "\n",
    "condition_window = 24\n",
    "prediction_window = 24\n",
    "features_length = 11"
   ]
  },
  {
   "cell_type": "code",
   "execution_count": 728,
   "metadata": {
    "colab": {
     "base_uri": "https://localhost:8080/",
     "height": 170
    },
    "colab_type": "code",
    "id": "TPC6J6f3Asw3",
    "outputId": "d880103c-8e20-4c7b-8473-75ac4ec198f6",
    "tags": []
   },
   "outputs": [
    {
     "name": "stdout",
     "output_type": "stream",
     "text": [
      "<class 'pandas.core.frame.DataFrame'>\n",
      "MultiIndex: 826464 entries, ('Albuquerque/1108/0', Timestamp('2015-02-16 09:00:00')) to ('Vancouver/806/12', Timestamp('2014-07-03 04:00:00'))\n",
      "Data columns (total 4 columns):\n",
      " #   Column       Non-Null Count   Dtype  \n",
      "---  ------       --------------   -----  \n",
      " 0   temperature  826464 non-null  float64\n",
      " 1   humidity     826464 non-null  float64\n",
      " 2   pressure     826464 non-null  float64\n",
      " 3   wind_speed   826464 non-null  float64\n",
      "dtypes: float64(4)\n",
      "memory usage: 31.9+ MB\n"
     ]
    }
   ],
   "source": [
    "train_X.info()"
   ]
  },
  {
   "cell_type": "code",
   "execution_count": 729,
   "metadata": {
    "tags": []
   },
   "outputs": [
    {
     "data": {
      "text/plain": [
       "MultiIndex([('Albuquerque/1108/0', '2015-02-16 09:00:00'),\n",
       "            ('Albuquerque/1108/0', '2015-02-16 10:00:00'),\n",
       "            ('Albuquerque/1108/0', '2015-02-16 11:00:00'),\n",
       "            ('Albuquerque/1108/0', '2015-02-16 12:00:00'),\n",
       "            ('Albuquerque/1108/0', '2015-02-16 13:00:00'),\n",
       "            ('Albuquerque/1108/0', '2015-02-16 14:00:00'),\n",
       "            ('Albuquerque/1108/0', '2015-02-16 15:00:00'),\n",
       "            ('Albuquerque/1108/0', '2015-02-16 16:00:00'),\n",
       "            ('Albuquerque/1108/0', '2015-02-16 17:00:00'),\n",
       "            ('Albuquerque/1108/0', '2015-02-16 18:00:00'),\n",
       "            ...\n",
       "            (  'Vancouver/806/12', '2014-07-02 19:00:00'),\n",
       "            (  'Vancouver/806/12', '2014-07-02 20:00:00'),\n",
       "            (  'Vancouver/806/12', '2014-07-02 21:00:00'),\n",
       "            (  'Vancouver/806/12', '2014-07-02 22:00:00'),\n",
       "            (  'Vancouver/806/12', '2014-07-02 23:00:00'),\n",
       "            (  'Vancouver/806/12', '2014-07-03 00:00:00'),\n",
       "            (  'Vancouver/806/12', '2014-07-03 01:00:00'),\n",
       "            (  'Vancouver/806/12', '2014-07-03 02:00:00'),\n",
       "            (  'Vancouver/806/12', '2014-07-03 03:00:00'),\n",
       "            (  'Vancouver/806/12', '2014-07-03 04:00:00')],\n",
       "           names=['sample', 'time'], length=826464)"
      ]
     },
     "execution_count": 729,
     "metadata": {},
     "output_type": "execute_result"
    }
   ],
   "source": [
    "train_X.index"
   ]
  },
  {
   "cell_type": "code",
   "execution_count": 730,
   "metadata": {
    "tags": []
   },
   "outputs": [
    {
     "name": "stdout",
     "output_type": "stream",
     "text": [
      "<class 'pandas.core.frame.DataFrame'>\n",
      "MultiIndex: 54912 entries, ('Albuquerque/2102/0', Timestamp('2017-02-28 20:00:00')) to ('Vancouver/2479/10', Timestamp('2017-03-22 15:00:00'))\n",
      "Data columns (total 4 columns):\n",
      " #   Column       Non-Null Count  Dtype  \n",
      "---  ------       --------------  -----  \n",
      " 0   temperature  54912 non-null  float64\n",
      " 1   humidity     54912 non-null  float64\n",
      " 2   pressure     54912 non-null  float64\n",
      " 3   wind_speed   54912 non-null  float64\n",
      "dtypes: float64(4)\n",
      "memory usage: 2.0+ MB\n"
     ]
    }
   ],
   "source": [
    "validate_X.info()"
   ]
  },
  {
   "cell_type": "code",
   "execution_count": 731,
   "metadata": {
    "colab": {
     "base_uri": "https://localhost:8080/",
     "height": 170
    },
    "colab_type": "code",
    "id": "oePar_N2Asw1",
    "outputId": "fe2636ff-5e2c-48d5-a93d-7d3d9fa76a4b",
    "tags": []
   },
   "outputs": [
    {
     "name": "stdout",
     "output_type": "stream",
     "text": [
      "<class 'pandas.core.frame.DataFrame'>\n",
      "MultiIndex: 52248 entries, ('Albuquerque/2155/0', Timestamp('2017-04-14 08:00:00')) to ('Vancouver/2511/2', Timestamp('2017-04-19 11:00:00'))\n",
      "Data columns (total 4 columns):\n",
      " #   Column       Non-Null Count  Dtype  \n",
      "---  ------       --------------  -----  \n",
      " 0   temperature  52248 non-null  float64\n",
      " 1   humidity     52248 non-null  float64\n",
      " 2   pressure     52248 non-null  float64\n",
      " 3   wind_speed   52248 non-null  float64\n",
      "dtypes: float64(4)\n",
      "memory usage: 2.0+ MB\n"
     ]
    }
   ],
   "source": [
    "test_X.info()"
   ]
  },
  {
   "cell_type": "code",
   "execution_count": 732,
   "metadata": {
    "colab": {
     "base_uri": "https://localhost:8080/",
     "height": 136
    },
    "colab_type": "code",
    "id": "SjQGIjpuAsw6",
    "outputId": "986d5bac-bf5a-43c7-8999-65d059a9edbd",
    "tags": []
   },
   "outputs": [
    {
     "data": {
      "text/plain": [
       "sample\n",
       "Albuquerque/1108/0    24\n",
       "Albuquerque/1108/1    24\n",
       "Albuquerque/1108/2    24\n",
       "Albuquerque/1112/0    24\n",
       "Albuquerque/1112/1    24\n",
       "dtype: int64"
      ]
     },
     "execution_count": 732,
     "metadata": {},
     "output_type": "execute_result"
    }
   ],
   "source": [
    "train_X.groupby('sample').size().head()"
   ]
  },
  {
   "cell_type": "code",
   "execution_count": 733,
   "metadata": {
    "colab": {
     "base_uri": "https://localhost:8080/",
     "height": 235
    },
    "colab_type": "code",
    "id": "ZS5hR1-pAsw8",
    "outputId": "2e4fe17d-8b12-498c-d9a3-dcda2b0977ca",
    "tags": []
   },
   "outputs": [
    {
     "data": {
      "text/html": [
       "<div>\n",
       "<style scoped>\n",
       "    .dataframe tbody tr th:only-of-type {\n",
       "        vertical-align: middle;\n",
       "    }\n",
       "\n",
       "    .dataframe tbody tr th {\n",
       "        vertical-align: top;\n",
       "    }\n",
       "\n",
       "    .dataframe thead th {\n",
       "        text-align: right;\n",
       "    }\n",
       "</style>\n",
       "<table border=\"1\" class=\"dataframe\">\n",
       "  <thead>\n",
       "    <tr style=\"text-align: right;\">\n",
       "      <th></th>\n",
       "      <th>temperature</th>\n",
       "      <th>humidity</th>\n",
       "      <th>pressure</th>\n",
       "      <th>wind_speed</th>\n",
       "    </tr>\n",
       "    <tr>\n",
       "      <th>time</th>\n",
       "      <th></th>\n",
       "      <th></th>\n",
       "      <th></th>\n",
       "      <th></th>\n",
       "    </tr>\n",
       "  </thead>\n",
       "  <tbody>\n",
       "    <tr>\n",
       "      <th>2015-02-20 18:00:00</th>\n",
       "      <td>282.116500</td>\n",
       "      <td>46.0</td>\n",
       "      <td>1023.0</td>\n",
       "      <td>3.0</td>\n",
       "    </tr>\n",
       "    <tr>\n",
       "      <th>2015-02-20 19:00:00</th>\n",
       "      <td>287.061667</td>\n",
       "      <td>40.0</td>\n",
       "      <td>1021.0</td>\n",
       "      <td>4.0</td>\n",
       "    </tr>\n",
       "    <tr>\n",
       "      <th>2015-02-20 20:00:00</th>\n",
       "      <td>288.236333</td>\n",
       "      <td>38.0</td>\n",
       "      <td>1019.0</td>\n",
       "      <td>4.0</td>\n",
       "    </tr>\n",
       "    <tr>\n",
       "      <th>2015-02-20 21:00:00</th>\n",
       "      <td>286.928000</td>\n",
       "      <td>35.0</td>\n",
       "      <td>1020.0</td>\n",
       "      <td>4.0</td>\n",
       "    </tr>\n",
       "    <tr>\n",
       "      <th>2015-02-20 22:00:00</th>\n",
       "      <td>288.930333</td>\n",
       "      <td>34.0</td>\n",
       "      <td>1017.0</td>\n",
       "      <td>5.0</td>\n",
       "    </tr>\n",
       "    <tr>\n",
       "      <th>2015-02-20 23:00:00</th>\n",
       "      <td>288.449667</td>\n",
       "      <td>31.0</td>\n",
       "      <td>1017.0</td>\n",
       "      <td>5.0</td>\n",
       "    </tr>\n",
       "    <tr>\n",
       "      <th>2015-02-21 00:00:00</th>\n",
       "      <td>286.976000</td>\n",
       "      <td>30.0</td>\n",
       "      <td>1019.0</td>\n",
       "      <td>4.0</td>\n",
       "    </tr>\n",
       "    <tr>\n",
       "      <th>2015-02-21 01:00:00</th>\n",
       "      <td>286.826333</td>\n",
       "      <td>27.0</td>\n",
       "      <td>1018.0</td>\n",
       "      <td>5.0</td>\n",
       "    </tr>\n",
       "    <tr>\n",
       "      <th>2015-02-21 02:00:00</th>\n",
       "      <td>285.683667</td>\n",
       "      <td>26.0</td>\n",
       "      <td>1019.0</td>\n",
       "      <td>5.0</td>\n",
       "    </tr>\n",
       "    <tr>\n",
       "      <th>2015-02-21 03:00:00</th>\n",
       "      <td>284.421000</td>\n",
       "      <td>30.0</td>\n",
       "      <td>1020.0</td>\n",
       "      <td>4.0</td>\n",
       "    </tr>\n",
       "    <tr>\n",
       "      <th>2015-02-21 04:00:00</th>\n",
       "      <td>283.318333</td>\n",
       "      <td>27.0</td>\n",
       "      <td>1021.0</td>\n",
       "      <td>4.0</td>\n",
       "    </tr>\n",
       "    <tr>\n",
       "      <th>2015-02-21 05:00:00</th>\n",
       "      <td>282.095667</td>\n",
       "      <td>29.0</td>\n",
       "      <td>1022.0</td>\n",
       "      <td>3.0</td>\n",
       "    </tr>\n",
       "    <tr>\n",
       "      <th>2015-02-21 06:00:00</th>\n",
       "      <td>281.932500</td>\n",
       "      <td>32.0</td>\n",
       "      <td>1023.0</td>\n",
       "      <td>4.0</td>\n",
       "    </tr>\n",
       "    <tr>\n",
       "      <th>2015-02-21 07:00:00</th>\n",
       "      <td>280.356667</td>\n",
       "      <td>34.0</td>\n",
       "      <td>1024.0</td>\n",
       "      <td>3.0</td>\n",
       "    </tr>\n",
       "    <tr>\n",
       "      <th>2015-02-21 08:00:00</th>\n",
       "      <td>279.840333</td>\n",
       "      <td>36.0</td>\n",
       "      <td>1024.0</td>\n",
       "      <td>3.0</td>\n",
       "    </tr>\n",
       "    <tr>\n",
       "      <th>2015-02-21 09:00:00</th>\n",
       "      <td>278.909000</td>\n",
       "      <td>38.0</td>\n",
       "      <td>1025.0</td>\n",
       "      <td>3.0</td>\n",
       "    </tr>\n",
       "    <tr>\n",
       "      <th>2015-02-21 10:00:00</th>\n",
       "      <td>278.531000</td>\n",
       "      <td>41.0</td>\n",
       "      <td>1026.0</td>\n",
       "      <td>4.0</td>\n",
       "    </tr>\n",
       "    <tr>\n",
       "      <th>2015-02-21 11:00:00</th>\n",
       "      <td>277.738000</td>\n",
       "      <td>43.0</td>\n",
       "      <td>1026.0</td>\n",
       "      <td>3.0</td>\n",
       "    </tr>\n",
       "    <tr>\n",
       "      <th>2015-02-21 12:00:00</th>\n",
       "      <td>277.627500</td>\n",
       "      <td>44.0</td>\n",
       "      <td>1027.0</td>\n",
       "      <td>3.0</td>\n",
       "    </tr>\n",
       "    <tr>\n",
       "      <th>2015-02-21 13:00:00</th>\n",
       "      <td>276.607000</td>\n",
       "      <td>46.0</td>\n",
       "      <td>1027.0</td>\n",
       "      <td>3.0</td>\n",
       "    </tr>\n",
       "    <tr>\n",
       "      <th>2015-02-21 14:00:00</th>\n",
       "      <td>276.269000</td>\n",
       "      <td>48.0</td>\n",
       "      <td>1028.0</td>\n",
       "      <td>2.0</td>\n",
       "    </tr>\n",
       "    <tr>\n",
       "      <th>2015-02-21 15:00:00</th>\n",
       "      <td>280.845000</td>\n",
       "      <td>45.0</td>\n",
       "      <td>1026.0</td>\n",
       "      <td>3.0</td>\n",
       "    </tr>\n",
       "    <tr>\n",
       "      <th>2015-02-21 16:00:00</th>\n",
       "      <td>278.869000</td>\n",
       "      <td>49.0</td>\n",
       "      <td>1027.0</td>\n",
       "      <td>2.0</td>\n",
       "    </tr>\n",
       "    <tr>\n",
       "      <th>2015-02-21 17:00:00</th>\n",
       "      <td>281.807000</td>\n",
       "      <td>47.0</td>\n",
       "      <td>1026.0</td>\n",
       "      <td>2.0</td>\n",
       "    </tr>\n",
       "  </tbody>\n",
       "</table>\n",
       "</div>"
      ],
      "text/plain": [
       "                     temperature  humidity  pressure  wind_speed\n",
       "time                                                            \n",
       "2015-02-20 18:00:00   282.116500      46.0    1023.0         3.0\n",
       "2015-02-20 19:00:00   287.061667      40.0    1021.0         4.0\n",
       "2015-02-20 20:00:00   288.236333      38.0    1019.0         4.0\n",
       "2015-02-20 21:00:00   286.928000      35.0    1020.0         4.0\n",
       "2015-02-20 22:00:00   288.930333      34.0    1017.0         5.0\n",
       "2015-02-20 23:00:00   288.449667      31.0    1017.0         5.0\n",
       "2015-02-21 00:00:00   286.976000      30.0    1019.0         4.0\n",
       "2015-02-21 01:00:00   286.826333      27.0    1018.0         5.0\n",
       "2015-02-21 02:00:00   285.683667      26.0    1019.0         5.0\n",
       "2015-02-21 03:00:00   284.421000      30.0    1020.0         4.0\n",
       "2015-02-21 04:00:00   283.318333      27.0    1021.0         4.0\n",
       "2015-02-21 05:00:00   282.095667      29.0    1022.0         3.0\n",
       "2015-02-21 06:00:00   281.932500      32.0    1023.0         4.0\n",
       "2015-02-21 07:00:00   280.356667      34.0    1024.0         3.0\n",
       "2015-02-21 08:00:00   279.840333      36.0    1024.0         3.0\n",
       "2015-02-21 09:00:00   278.909000      38.0    1025.0         3.0\n",
       "2015-02-21 10:00:00   278.531000      41.0    1026.0         4.0\n",
       "2015-02-21 11:00:00   277.738000      43.0    1026.0         3.0\n",
       "2015-02-21 12:00:00   277.627500      44.0    1027.0         3.0\n",
       "2015-02-21 13:00:00   276.607000      46.0    1027.0         3.0\n",
       "2015-02-21 14:00:00   276.269000      48.0    1028.0         2.0\n",
       "2015-02-21 15:00:00   280.845000      45.0    1026.0         3.0\n",
       "2015-02-21 16:00:00   278.869000      49.0    1027.0         2.0\n",
       "2015-02-21 17:00:00   281.807000      47.0    1026.0         2.0"
      ]
     },
     "execution_count": 733,
     "metadata": {},
     "output_type": "execute_result"
    }
   ],
   "source": [
    "train_X.loc['Albuquerque/1112/1'].head(24)"
   ]
  },
  {
   "cell_type": "code",
   "execution_count": 734,
   "metadata": {
    "colab": {
     "base_uri": "https://localhost:8080/",
     "height": 724
    },
    "colab_type": "code",
    "id": "87pbY6GKAsw9",
    "outputId": "81b9f7bb-bfd0-461d-e04b-2ef483c18e0f",
    "tags": []
   },
   "outputs": [
    {
     "data": {
      "image/png": "[encoded data removed]",
      "text/plain": [
       "<Figure size 1500x1000 with 4 Axes>"
      ]
     },
     "metadata": {
      "image/png": {
       "height": 964,
       "width": 1466
      }
     },
     "output_type": "display_data"
    }
   ],
   "source": [
    "train_X.loc['Albuquerque/1112/1'].plot(subplots=True, layout=(2, 2), figsize=[15, 10])\n",
    "plt.tight_layout()"
   ]
  },
  {
   "cell_type": "code",
   "execution_count": 735,
   "metadata": {
    "tags": []
   },
   "outputs": [
    {
     "data": {
      "text/html": [
       "<div>\n",
       "<style scoped>\n",
       "    .dataframe tbody tr th:only-of-type {\n",
       "        vertical-align: middle;\n",
       "    }\n",
       "\n",
       "    .dataframe tbody tr th {\n",
       "        vertical-align: top;\n",
       "    }\n",
       "\n",
       "    .dataframe thead th {\n",
       "        text-align: right;\n",
       "    }\n",
       "</style>\n",
       "<table border=\"1\" class=\"dataframe\">\n",
       "  <thead>\n",
       "    <tr style=\"text-align: right;\">\n",
       "      <th></th>\n",
       "      <th>temperature</th>\n",
       "      <th>humidity</th>\n",
       "      <th>pressure</th>\n",
       "      <th>wind_speed</th>\n",
       "    </tr>\n",
       "    <tr>\n",
       "      <th>time</th>\n",
       "      <th></th>\n",
       "      <th></th>\n",
       "      <th></th>\n",
       "      <th></th>\n",
       "    </tr>\n",
       "  </thead>\n",
       "  <tbody>\n",
       "    <tr>\n",
       "      <th>2015-02-21 18:00:00</th>\n",
       "      <td>282.091500</td>\n",
       "      <td>44.0</td>\n",
       "      <td>1024.0</td>\n",
       "      <td>3.0</td>\n",
       "    </tr>\n",
       "    <tr>\n",
       "      <th>2015-02-21 19:00:00</th>\n",
       "      <td>285.914000</td>\n",
       "      <td>43.0</td>\n",
       "      <td>1023.0</td>\n",
       "      <td>3.0</td>\n",
       "    </tr>\n",
       "    <tr>\n",
       "      <th>2015-02-21 20:00:00</th>\n",
       "      <td>287.083000</td>\n",
       "      <td>40.0</td>\n",
       "      <td>1021.0</td>\n",
       "      <td>4.0</td>\n",
       "    </tr>\n",
       "    <tr>\n",
       "      <th>2015-02-21 21:00:00</th>\n",
       "      <td>286.046500</td>\n",
       "      <td>37.0</td>\n",
       "      <td>1022.0</td>\n",
       "      <td>5.0</td>\n",
       "    </tr>\n",
       "    <tr>\n",
       "      <th>2015-02-21 22:00:00</th>\n",
       "      <td>287.950667</td>\n",
       "      <td>34.0</td>\n",
       "      <td>1019.0</td>\n",
       "      <td>6.0</td>\n",
       "    </tr>\n",
       "    <tr>\n",
       "      <th>2015-02-21 23:00:00</th>\n",
       "      <td>287.649333</td>\n",
       "      <td>31.0</td>\n",
       "      <td>1019.0</td>\n",
       "      <td>6.0</td>\n",
       "    </tr>\n",
       "    <tr>\n",
       "      <th>2015-02-22 00:00:00</th>\n",
       "      <td>285.892000</td>\n",
       "      <td>30.0</td>\n",
       "      <td>1021.0</td>\n",
       "      <td>4.0</td>\n",
       "    </tr>\n",
       "    <tr>\n",
       "      <th>2015-02-22 01:00:00</th>\n",
       "      <td>286.076000</td>\n",
       "      <td>26.0</td>\n",
       "      <td>1020.0</td>\n",
       "      <td>5.0</td>\n",
       "    </tr>\n",
       "    <tr>\n",
       "      <th>2015-02-22 02:00:00</th>\n",
       "      <td>284.804000</td>\n",
       "      <td>25.0</td>\n",
       "      <td>1021.0</td>\n",
       "      <td>4.0</td>\n",
       "    </tr>\n",
       "    <tr>\n",
       "      <th>2015-02-22 03:00:00</th>\n",
       "      <td>283.949000</td>\n",
       "      <td>29.0</td>\n",
       "      <td>1022.0</td>\n",
       "      <td>5.0</td>\n",
       "    </tr>\n",
       "    <tr>\n",
       "      <th>2015-02-22 04:00:00</th>\n",
       "      <td>282.538000</td>\n",
       "      <td>25.0</td>\n",
       "      <td>1023.0</td>\n",
       "      <td>3.0</td>\n",
       "    </tr>\n",
       "    <tr>\n",
       "      <th>2015-02-22 05:00:00</th>\n",
       "      <td>281.544000</td>\n",
       "      <td>27.0</td>\n",
       "      <td>1024.0</td>\n",
       "      <td>3.0</td>\n",
       "    </tr>\n",
       "    <tr>\n",
       "      <th>2015-02-22 06:00:00</th>\n",
       "      <td>280.086000</td>\n",
       "      <td>29.0</td>\n",
       "      <td>1024.0</td>\n",
       "      <td>3.0</td>\n",
       "    </tr>\n",
       "    <tr>\n",
       "      <th>2015-02-22 07:00:00</th>\n",
       "      <td>279.246667</td>\n",
       "      <td>31.0</td>\n",
       "      <td>1025.0</td>\n",
       "      <td>3.0</td>\n",
       "    </tr>\n",
       "    <tr>\n",
       "      <th>2015-02-22 08:00:00</th>\n",
       "      <td>277.943333</td>\n",
       "      <td>33.0</td>\n",
       "      <td>1026.0</td>\n",
       "      <td>2.0</td>\n",
       "    </tr>\n",
       "    <tr>\n",
       "      <th>2015-02-22 09:00:00</th>\n",
       "      <td>277.565000</td>\n",
       "      <td>43.0</td>\n",
       "      <td>1026.0</td>\n",
       "      <td>2.0</td>\n",
       "    </tr>\n",
       "    <tr>\n",
       "      <th>2015-02-22 10:00:00</th>\n",
       "      <td>275.953333</td>\n",
       "      <td>42.0</td>\n",
       "      <td>1027.0</td>\n",
       "      <td>1.0</td>\n",
       "    </tr>\n",
       "    <tr>\n",
       "      <th>2015-02-22 11:00:00</th>\n",
       "      <td>275.266667</td>\n",
       "      <td>50.0</td>\n",
       "      <td>1027.0</td>\n",
       "      <td>1.0</td>\n",
       "    </tr>\n",
       "    <tr>\n",
       "      <th>2015-02-22 12:00:00</th>\n",
       "      <td>276.825000</td>\n",
       "      <td>41.0</td>\n",
       "      <td>1029.0</td>\n",
       "      <td>2.0</td>\n",
       "    </tr>\n",
       "    <tr>\n",
       "      <th>2015-02-22 13:00:00</th>\n",
       "      <td>275.390000</td>\n",
       "      <td>53.0</td>\n",
       "      <td>1029.0</td>\n",
       "      <td>1.0</td>\n",
       "    </tr>\n",
       "    <tr>\n",
       "      <th>2015-02-22 14:00:00</th>\n",
       "      <td>276.200000</td>\n",
       "      <td>50.0</td>\n",
       "      <td>1030.0</td>\n",
       "      <td>1.0</td>\n",
       "    </tr>\n",
       "    <tr>\n",
       "      <th>2015-02-22 15:00:00</th>\n",
       "      <td>278.227000</td>\n",
       "      <td>51.0</td>\n",
       "      <td>1030.0</td>\n",
       "      <td>3.0</td>\n",
       "    </tr>\n",
       "    <tr>\n",
       "      <th>2015-02-22 16:00:00</th>\n",
       "      <td>278.631333</td>\n",
       "      <td>46.0</td>\n",
       "      <td>1031.0</td>\n",
       "      <td>3.0</td>\n",
       "    </tr>\n",
       "    <tr>\n",
       "      <th>2015-02-22 17:00:00</th>\n",
       "      <td>280.252667</td>\n",
       "      <td>46.0</td>\n",
       "      <td>1031.0</td>\n",
       "      <td>4.0</td>\n",
       "    </tr>\n",
       "  </tbody>\n",
       "</table>\n",
       "</div>"
      ],
      "text/plain": [
       "                     temperature  humidity  pressure  wind_speed\n",
       "time                                                            \n",
       "2015-02-21 18:00:00   282.091500      44.0    1024.0         3.0\n",
       "2015-02-21 19:00:00   285.914000      43.0    1023.0         3.0\n",
       "2015-02-21 20:00:00   287.083000      40.0    1021.0         4.0\n",
       "2015-02-21 21:00:00   286.046500      37.0    1022.0         5.0\n",
       "2015-02-21 22:00:00   287.950667      34.0    1019.0         6.0\n",
       "2015-02-21 23:00:00   287.649333      31.0    1019.0         6.0\n",
       "2015-02-22 00:00:00   285.892000      30.0    1021.0         4.0\n",
       "2015-02-22 01:00:00   286.076000      26.0    1020.0         5.0\n",
       "2015-02-22 02:00:00   284.804000      25.0    1021.0         4.0\n",
       "2015-02-22 03:00:00   283.949000      29.0    1022.0         5.0\n",
       "2015-02-22 04:00:00   282.538000      25.0    1023.0         3.0\n",
       "2015-02-22 05:00:00   281.544000      27.0    1024.0         3.0\n",
       "2015-02-22 06:00:00   280.086000      29.0    1024.0         3.0\n",
       "2015-02-22 07:00:00   279.246667      31.0    1025.0         3.0\n",
       "2015-02-22 08:00:00   277.943333      33.0    1026.0         2.0\n",
       "2015-02-22 09:00:00   277.565000      43.0    1026.0         2.0\n",
       "2015-02-22 10:00:00   275.953333      42.0    1027.0         1.0\n",
       "2015-02-22 11:00:00   275.266667      50.0    1027.0         1.0\n",
       "2015-02-22 12:00:00   276.825000      41.0    1029.0         2.0\n",
       "2015-02-22 13:00:00   275.390000      53.0    1029.0         1.0\n",
       "2015-02-22 14:00:00   276.200000      50.0    1030.0         1.0\n",
       "2015-02-22 15:00:00   278.227000      51.0    1030.0         3.0\n",
       "2015-02-22 16:00:00   278.631333      46.0    1031.0         3.0\n",
       "2015-02-22 17:00:00   280.252667      46.0    1031.0         4.0"
      ]
     },
     "execution_count": 735,
     "metadata": {},
     "output_type": "execute_result"
    }
   ],
   "source": [
    "train_y.loc['Albuquerque/1112/1'].head(24)"
   ]
  },
  {
   "cell_type": "code",
   "execution_count": 736,
   "metadata": {
    "tags": []
   },
   "outputs": [],
   "source": [
    "train_size = 653352\n",
    "validate_size = 140136\n",
    "test_size = 140136\n"
   ]
  },
  {
   "cell_type": "code",
   "execution_count": 737,
   "metadata": {},
   "outputs": [],
   "source": [
    "combined_X = pd.concat([train_X, validate_X, test_X])\n",
    "combined_y = pd.concat([train_y, validate_y, test_y])"
   ]
  },
  {
   "cell_type": "code",
   "execution_count": 738,
   "metadata": {
    "tags": []
   },
   "outputs": [],
   "source": [
    "train_X = combined_X.iloc[:train_size]\n",
    "validate_X = combined_X.iloc[train_size:train_size + validate_size]\n",
    "test_X = combined_X.iloc[train_size + validate_size:]\n"
   ]
  },
  {
   "cell_type": "code",
   "execution_count": 739,
   "metadata": {
    "tags": []
   },
   "outputs": [],
   "source": [
    "train_y = combined_y.iloc[:train_size]\n",
    "validate_y = combined_y.iloc[train_size:train_size + validate_size]\n",
    "test_y = combined_y.iloc[train_size + validate_size:]\n"
   ]
  },
  {
   "cell_type": "code",
   "execution_count": 740,
   "metadata": {
    "tags": []
   },
   "outputs": [],
   "source": [
    "\n",
    "combined_X = combined_X.reset_index()\n",
    "\n",
    "combined_X['hour'] = combined_X['time'].dt.hour\n",
    "combined_X['day_of_week'] = combined_X['time'].dt.dayofweek\n",
    "combined_X['month'] = combined_X['time'].dt.month\n",
    "\n",
    "combined_X['city'] = combined_X['sample'].str.split('/').str[0]\n",
    "\n",
    "\n",
    "\n",
    "\n"
   ]
  },
  {
   "cell_type": "code",
   "execution_count": 741,
   "metadata": {
    "tags": []
   },
   "outputs": [],
   "source": [
    "\n",
    "score_X = score_X.reset_index()\n",
    "\n",
    "\n",
    "score_X['hour'] = score_X['time'].dt.hour\n",
    "score_X['day_of_week'] = score_X['time'].dt.dayofweek\n",
    "score_X['month'] = score_X['time'].dt.month\n",
    "\n",
    "\n",
    "score_X['city'] = score_X['sample'].str.split('/').str[0]\n",
    "\n",
    "\n",
    "\n",
    "\n"
   ]
  },
  {
   "cell_type": "code",
   "execution_count": 742,
   "metadata": {
    "tags": []
   },
   "outputs": [],
   "source": [
    "\n",
    "train_X = combined_X.iloc[:train_size]\n",
    "validate_X = combined_X.iloc[train_size:train_size + validate_size]\n",
    "test_X = combined_X.iloc[train_size + validate_size:]\n"
   ]
  },
  {
   "cell_type": "code",
   "execution_count": 743,
   "metadata": {
    "tags": []
   },
   "outputs": [
    {
     "name": "stdout",
     "output_type": "stream",
     "text": [
      "Training set size: 653352\n",
      "Validation set size: 140136\n",
      "Test set size: 140136\n"
     ]
    }
   ],
   "source": [
    "print(f\"Training set size: {len(train_X)}\")\n",
    "print(f\"Validation set size: {len(validate_X)}\")\n",
    "print(f\"Test set size: {len(test_X)}\")\n"
   ]
  },
  {
   "cell_type": "code",
   "execution_count": 744,
   "metadata": {
    "tags": []
   },
   "outputs": [
    {
     "name": "stdout",
     "output_type": "stream",
     "text": [
      "Training set size: 653352\n",
      "Validation set size: 140136\n",
      "Test set size: 140136\n"
     ]
    }
   ],
   "source": [
    "print(f\"Training set size: {len(train_y)}\")\n",
    "print(f\"Validation set size: {len(validate_y)}\")\n",
    "print(f\"Test set size: {len(test_y)}\")\n"
   ]
  },
  {
   "cell_type": "code",
   "execution_count": 745,
   "metadata": {
    "tags": []
   },
   "outputs": [
    {
     "name": "stderr",
     "output_type": "stream",
     "text": [
      "/tmp/ipykernel_28/715780050.py:1: SettingWithCopyWarning: \n",
      "A value is trying to be set on a copy of a slice from a DataFrame\n",
      "\n",
      "See the caveats in the documentation: https://pandas.pydata.org/pandas-docs/stable/user_guide/indexing.html#returning-a-view-versus-a-copy\n",
      "  train_X.drop(['sample', 'time'], axis=1,  inplace=True)\n",
      "/tmp/ipykernel_28/715780050.py:2: SettingWithCopyWarning: \n",
      "A value is trying to be set on a copy of a slice from a DataFrame\n",
      "\n",
      "See the caveats in the documentation: https://pandas.pydata.org/pandas-docs/stable/user_guide/indexing.html#returning-a-view-versus-a-copy\n",
      "  validate_X.drop(['sample', 'time'], axis=1,  inplace=True)\n",
      "/tmp/ipykernel_28/715780050.py:3: SettingWithCopyWarning: \n",
      "A value is trying to be set on a copy of a slice from a DataFrame\n",
      "\n",
      "See the caveats in the documentation: https://pandas.pydata.org/pandas-docs/stable/user_guide/indexing.html#returning-a-view-versus-a-copy\n",
      "  test_X.drop(['sample', 'time'], axis=1,  inplace=True)\n"
     ]
    }
   ],
   "source": [
    "train_X.drop(['sample', 'time'], axis=1,  inplace=True)\n",
    "validate_X.drop(['sample', 'time'], axis=1,  inplace=True)\n",
    "test_X.drop(['sample', 'time'], axis=1,  inplace=True)"
   ]
  },
  {
   "cell_type": "code",
   "execution_count": 746,
   "metadata": {
    "tags": []
   },
   "outputs": [],
   "source": [
    "score_X.drop(['sample', 'time'], axis=1,  inplace=True)"
   ]
  },
  {
   "cell_type": "code",
   "execution_count": 747,
   "metadata": {
    "tags": []
   },
   "outputs": [
    {
     "name": "stderr",
     "output_type": "stream",
     "text": [
      "/tmp/ipykernel_28/4126878279.py:1: SettingWithCopyWarning: \n",
      "A value is trying to be set on a copy of a slice from a DataFrame\n",
      "\n",
      "See the caveats in the documentation: https://pandas.pydata.org/pandas-docs/stable/user_guide/indexing.html#returning-a-view-versus-a-copy\n",
      "  train_y.drop(['pressure', 'humidity', 'wind_speed'], axis=1, inplace=True)\n"
     ]
    }
   ],
   "source": [
    "train_y.drop(['pressure', 'humidity', 'wind_speed'], axis=1, inplace=True)"
   ]
  },
  {
   "cell_type": "code",
   "execution_count": 748,
   "metadata": {
    "tags": []
   },
   "outputs": [
    {
     "name": "stderr",
     "output_type": "stream",
     "text": [
      "/tmp/ipykernel_28/1438616087.py:1: SettingWithCopyWarning: \n",
      "A value is trying to be set on a copy of a slice from a DataFrame\n",
      "\n",
      "See the caveats in the documentation: https://pandas.pydata.org/pandas-docs/stable/user_guide/indexing.html#returning-a-view-versus-a-copy\n",
      "  validate_y.drop(['pressure', 'humidity', 'wind_speed'], axis=1, inplace=True)\n"
     ]
    }
   ],
   "source": [
    "validate_y.drop(['pressure', 'humidity', 'wind_speed'], axis=1, inplace=True)"
   ]
  },
  {
   "cell_type": "code",
   "execution_count": 749,
   "metadata": {
    "tags": []
   },
   "outputs": [
    {
     "name": "stderr",
     "output_type": "stream",
     "text": [
      "/tmp/ipykernel_28/3978312769.py:1: SettingWithCopyWarning: \n",
      "A value is trying to be set on a copy of a slice from a DataFrame.\n",
      "Try using .loc[row_indexer,col_indexer] = value instead\n",
      "\n",
      "See the caveats in the documentation: https://pandas.pydata.org/pandas-docs/stable/user_guide/indexing.html#returning-a-view-versus-a-copy\n",
      "  train_X['hour_sin'] = np.sin(2 * np.pi * train_X['hour'] / 24)\n",
      "/tmp/ipykernel_28/3978312769.py:2: SettingWithCopyWarning: \n",
      "A value is trying to be set on a copy of a slice from a DataFrame.\n",
      "Try using .loc[row_indexer,col_indexer] = value instead\n",
      "\n",
      "See the caveats in the documentation: https://pandas.pydata.org/pandas-docs/stable/user_guide/indexing.html#returning-a-view-versus-a-copy\n",
      "  train_X['hour_cos'] = np.cos(2 * np.pi * train_X['hour'] / 24)\n",
      "/tmp/ipykernel_28/3978312769.py:5: SettingWithCopyWarning: \n",
      "A value is trying to be set on a copy of a slice from a DataFrame.\n",
      "Try using .loc[row_indexer,col_indexer] = value instead\n",
      "\n",
      "See the caveats in the documentation: https://pandas.pydata.org/pandas-docs/stable/user_guide/indexing.html#returning-a-view-versus-a-copy\n",
      "  train_X['day_of_week_sin'] = np.sin(2 * np.pi * train_X['day_of_week'] / 7)\n",
      "/tmp/ipykernel_28/3978312769.py:6: SettingWithCopyWarning: \n",
      "A value is trying to be set on a copy of a slice from a DataFrame.\n",
      "Try using .loc[row_indexer,col_indexer] = value instead\n",
      "\n",
      "See the caveats in the documentation: https://pandas.pydata.org/pandas-docs/stable/user_guide/indexing.html#returning-a-view-versus-a-copy\n",
      "  train_X['day_of_week_cos'] = np.cos(2 * np.pi * train_X['day_of_week'] / 7)\n",
      "/tmp/ipykernel_28/3978312769.py:9: SettingWithCopyWarning: \n",
      "A value is trying to be set on a copy of a slice from a DataFrame.\n",
      "Try using .loc[row_indexer,col_indexer] = value instead\n",
      "\n",
      "See the caveats in the documentation: https://pandas.pydata.org/pandas-docs/stable/user_guide/indexing.html#returning-a-view-versus-a-copy\n",
      "  train_X['month_sin'] = np.sin(2 * np.pi * (train_X['month'] - 1) / 12)\n",
      "/tmp/ipykernel_28/3978312769.py:10: SettingWithCopyWarning: \n",
      "A value is trying to be set on a copy of a slice from a DataFrame.\n",
      "Try using .loc[row_indexer,col_indexer] = value instead\n",
      "\n",
      "See the caveats in the documentation: https://pandas.pydata.org/pandas-docs/stable/user_guide/indexing.html#returning-a-view-versus-a-copy\n",
      "  train_X['month_cos'] = np.cos(2 * np.pi * (train_X['month'] - 1) / 12)\n"
     ]
    }
   ],
   "source": [
    "\n",
    "train_X['hour_sin'] = np.sin(2 * np.pi * train_X['hour'] / 24)\n",
    "train_X['hour_cos'] = np.cos(2 * np.pi * train_X['hour'] / 24)\n",
    "\n",
    "\n",
    "train_X['day_of_week_sin'] = np.sin(2 * np.pi * train_X['day_of_week'] / 7)\n",
    "train_X['day_of_week_cos'] = np.cos(2 * np.pi * train_X['day_of_week'] / 7)\n",
    "\n",
    "\n",
    "train_X['month_sin'] = np.sin(2 * np.pi * (train_X['month'] - 1) / 12)\n",
    "train_X['month_cos'] = np.cos(2 * np.pi * (train_X['month'] - 1) / 12)"
   ]
  },
  {
   "cell_type": "code",
   "execution_count": 750,
   "metadata": {
    "tags": []
   },
   "outputs": [
    {
     "name": "stderr",
     "output_type": "stream",
     "text": [
      "/tmp/ipykernel_28/3096919550.py:1: SettingWithCopyWarning: \n",
      "A value is trying to be set on a copy of a slice from a DataFrame.\n",
      "Try using .loc[row_indexer,col_indexer] = value instead\n",
      "\n",
      "See the caveats in the documentation: https://pandas.pydata.org/pandas-docs/stable/user_guide/indexing.html#returning-a-view-versus-a-copy\n",
      "  validate_X['hour_sin'] = np.sin(2 * np.pi * validate_X['hour'] / 24)\n",
      "/tmp/ipykernel_28/3096919550.py:2: SettingWithCopyWarning: \n",
      "A value is trying to be set on a copy of a slice from a DataFrame.\n",
      "Try using .loc[row_indexer,col_indexer] = value instead\n",
      "\n",
      "See the caveats in the documentation: https://pandas.pydata.org/pandas-docs/stable/user_guide/indexing.html#returning-a-view-versus-a-copy\n",
      "  validate_X['hour_cos'] = np.cos(2 * np.pi * validate_X['hour'] / 24)\n",
      "/tmp/ipykernel_28/3096919550.py:4: SettingWithCopyWarning: \n",
      "A value is trying to be set on a copy of a slice from a DataFrame.\n",
      "Try using .loc[row_indexer,col_indexer] = value instead\n",
      "\n",
      "See the caveats in the documentation: https://pandas.pydata.org/pandas-docs/stable/user_guide/indexing.html#returning-a-view-versus-a-copy\n",
      "  validate_X['day_of_week_sin'] = np.sin(2 * np.pi * validate_X['day_of_week'] / 7)\n",
      "/tmp/ipykernel_28/3096919550.py:5: SettingWithCopyWarning: \n",
      "A value is trying to be set on a copy of a slice from a DataFrame.\n",
      "Try using .loc[row_indexer,col_indexer] = value instead\n",
      "\n",
      "See the caveats in the documentation: https://pandas.pydata.org/pandas-docs/stable/user_guide/indexing.html#returning-a-view-versus-a-copy\n",
      "  validate_X['day_of_week_cos'] = np.cos(2 * np.pi * validate_X['day_of_week'] / 7)\n",
      "/tmp/ipykernel_28/3096919550.py:8: SettingWithCopyWarning: \n",
      "A value is trying to be set on a copy of a slice from a DataFrame.\n",
      "Try using .loc[row_indexer,col_indexer] = value instead\n",
      "\n",
      "See the caveats in the documentation: https://pandas.pydata.org/pandas-docs/stable/user_guide/indexing.html#returning-a-view-versus-a-copy\n",
      "  validate_X['month_sin'] = np.sin(2 * np.pi * (validate_X['month'] - 1) / 12)\n",
      "/tmp/ipykernel_28/3096919550.py:9: SettingWithCopyWarning: \n",
      "A value is trying to be set on a copy of a slice from a DataFrame.\n",
      "Try using .loc[row_indexer,col_indexer] = value instead\n",
      "\n",
      "See the caveats in the documentation: https://pandas.pydata.org/pandas-docs/stable/user_guide/indexing.html#returning-a-view-versus-a-copy\n",
      "  validate_X['month_cos'] = np.cos(2 * np.pi * (validate_X['month'] - 1) / 12)\n"
     ]
    }
   ],
   "source": [
    "\n",
    "validate_X['hour_sin'] = np.sin(2 * np.pi * validate_X['hour'] / 24)\n",
    "validate_X['hour_cos'] = np.cos(2 * np.pi * validate_X['hour'] / 24)\n",
    "\n",
    "validate_X['day_of_week_sin'] = np.sin(2 * np.pi * validate_X['day_of_week'] / 7)\n",
    "validate_X['day_of_week_cos'] = np.cos(2 * np.pi * validate_X['day_of_week'] / 7)\n",
    "\n",
    "\n",
    "validate_X['month_sin'] = np.sin(2 * np.pi * (validate_X['month'] - 1) / 12)\n",
    "validate_X['month_cos'] = np.cos(2 * np.pi * (validate_X['month'] - 1) / 12)"
   ]
  },
  {
   "cell_type": "code",
   "execution_count": 751,
   "metadata": {
    "tags": []
   },
   "outputs": [
    {
     "name": "stderr",
     "output_type": "stream",
     "text": [
      "/tmp/ipykernel_28/896385767.py:1: SettingWithCopyWarning: \n",
      "A value is trying to be set on a copy of a slice from a DataFrame.\n",
      "Try using .loc[row_indexer,col_indexer] = value instead\n",
      "\n",
      "See the caveats in the documentation: https://pandas.pydata.org/pandas-docs/stable/user_guide/indexing.html#returning-a-view-versus-a-copy\n",
      "  test_X['hour_sin'] = np.sin(2 * np.pi * test_X['hour'] / 24)\n",
      "/tmp/ipykernel_28/896385767.py:2: SettingWithCopyWarning: \n",
      "A value is trying to be set on a copy of a slice from a DataFrame.\n",
      "Try using .loc[row_indexer,col_indexer] = value instead\n",
      "\n",
      "See the caveats in the documentation: https://pandas.pydata.org/pandas-docs/stable/user_guide/indexing.html#returning-a-view-versus-a-copy\n",
      "  test_X['hour_cos'] = np.cos(2 * np.pi * test_X['hour'] / 24)\n",
      "/tmp/ipykernel_28/896385767.py:5: SettingWithCopyWarning: \n",
      "A value is trying to be set on a copy of a slice from a DataFrame.\n",
      "Try using .loc[row_indexer,col_indexer] = value instead\n",
      "\n",
      "See the caveats in the documentation: https://pandas.pydata.org/pandas-docs/stable/user_guide/indexing.html#returning-a-view-versus-a-copy\n",
      "  test_X['day_of_week_sin'] = np.sin(2 * np.pi * test_X['day_of_week'] / 7)\n",
      "/tmp/ipykernel_28/896385767.py:6: SettingWithCopyWarning: \n",
      "A value is trying to be set on a copy of a slice from a DataFrame.\n",
      "Try using .loc[row_indexer,col_indexer] = value instead\n",
      "\n",
      "See the caveats in the documentation: https://pandas.pydata.org/pandas-docs/stable/user_guide/indexing.html#returning-a-view-versus-a-copy\n",
      "  test_X['day_of_week_cos'] = np.cos(2 * np.pi * test_X['day_of_week'] / 7)\n",
      "/tmp/ipykernel_28/896385767.py:9: SettingWithCopyWarning: \n",
      "A value is trying to be set on a copy of a slice from a DataFrame.\n",
      "Try using .loc[row_indexer,col_indexer] = value instead\n",
      "\n",
      "See the caveats in the documentation: https://pandas.pydata.org/pandas-docs/stable/user_guide/indexing.html#returning-a-view-versus-a-copy\n",
      "  test_X['month_sin'] = np.sin(2 * np.pi * (test_X['month'] - 1) / 12)\n",
      "/tmp/ipykernel_28/896385767.py:10: SettingWithCopyWarning: \n",
      "A value is trying to be set on a copy of a slice from a DataFrame.\n",
      "Try using .loc[row_indexer,col_indexer] = value instead\n",
      "\n",
      "See the caveats in the documentation: https://pandas.pydata.org/pandas-docs/stable/user_guide/indexing.html#returning-a-view-versus-a-copy\n",
      "  test_X['month_cos'] = np.cos(2 * np.pi * (test_X['month'] - 1) / 12)\n"
     ]
    }
   ],
   "source": [
    "\n",
    "test_X['hour_sin'] = np.sin(2 * np.pi * test_X['hour'] / 24)\n",
    "test_X['hour_cos'] = np.cos(2 * np.pi * test_X['hour'] / 24)\n",
    "\n",
    "\n",
    "test_X['day_of_week_sin'] = np.sin(2 * np.pi * test_X['day_of_week'] / 7)\n",
    "test_X['day_of_week_cos'] = np.cos(2 * np.pi * test_X['day_of_week'] / 7)\n",
    "\n",
    "\n",
    "test_X['month_sin'] = np.sin(2 * np.pi * (test_X['month'] - 1) / 12)\n",
    "test_X['month_cos'] = np.cos(2 * np.pi * (test_X['month'] - 1) / 12)"
   ]
  },
  {
   "cell_type": "code",
   "execution_count": 752,
   "metadata": {
    "tags": []
   },
   "outputs": [],
   "source": [
    "\n",
    "score_X['hour_sin'] = np.sin(2 * np.pi * score_X['hour'] / 24)\n",
    "score_X['hour_cos'] = np.cos(2 * np.pi * score_X['hour'] / 24)\n",
    "\n",
    "\n",
    "score_X['day_of_week_sin'] = np.sin(2 * np.pi * score_X['day_of_week'] / 7)\n",
    "score_X['day_of_week_cos'] = np.cos(2 * np.pi * score_X['day_of_week'] / 7)\n",
    "\n",
    "\n",
    "score_X['month_sin'] = np.sin(2 * np.pi * (score_X['month'] - 1) / 12)\n",
    "score_X['month_cos'] = np.cos(2 * np.pi * (score_X['month'] - 1) / 12)"
   ]
  },
  {
   "cell_type": "code",
   "execution_count": 753,
   "metadata": {
    "tags": []
   },
   "outputs": [
    {
     "name": "stderr",
     "output_type": "stream",
     "text": [
      "/tmp/ipykernel_28/2789090019.py:3: SettingWithCopyWarning: \n",
      "A value is trying to be set on a copy of a slice from a DataFrame.\n",
      "Try using .loc[row_indexer,col_indexer] = value instead\n",
      "\n",
      "See the caveats in the documentation: https://pandas.pydata.org/pandas-docs/stable/user_guide/indexing.html#returning-a-view-versus-a-copy\n",
      "  train_X['city_encoded'] = label_encoder.fit_transform(train_X['city'])\n"
     ]
    }
   ],
   "source": [
    "from sklearn.preprocessing import LabelEncoder\n",
    "label_encoder = LabelEncoder()\n",
    "train_X['city_encoded'] = label_encoder.fit_transform(train_X['city'])"
   ]
  },
  {
   "cell_type": "code",
   "execution_count": 754,
   "metadata": {
    "tags": []
   },
   "outputs": [
    {
     "name": "stderr",
     "output_type": "stream",
     "text": [
      "/tmp/ipykernel_28/3676679770.py:1: SettingWithCopyWarning: \n",
      "A value is trying to be set on a copy of a slice from a DataFrame.\n",
      "Try using .loc[row_indexer,col_indexer] = value instead\n",
      "\n",
      "See the caveats in the documentation: https://pandas.pydata.org/pandas-docs/stable/user_guide/indexing.html#returning-a-view-versus-a-copy\n",
      "  validate_X['city_encoded'] = label_encoder.fit_transform(validate_X['city'])\n"
     ]
    }
   ],
   "source": [
    "validate_X['city_encoded'] = label_encoder.fit_transform(validate_X['city'])"
   ]
  },
  {
   "cell_type": "code",
   "execution_count": 755,
   "metadata": {
    "tags": []
   },
   "outputs": [
    {
     "name": "stderr",
     "output_type": "stream",
     "text": [
      "/tmp/ipykernel_28/1334947919.py:1: SettingWithCopyWarning: \n",
      "A value is trying to be set on a copy of a slice from a DataFrame.\n",
      "Try using .loc[row_indexer,col_indexer] = value instead\n",
      "\n",
      "See the caveats in the documentation: https://pandas.pydata.org/pandas-docs/stable/user_guide/indexing.html#returning-a-view-versus-a-copy\n",
      "  test_X['city_encoded'] = label_encoder.fit_transform(test_X['city'])\n"
     ]
    }
   ],
   "source": [
    "test_X['city_encoded'] = label_encoder.fit_transform(test_X['city'])"
   ]
  },
  {
   "cell_type": "code",
   "execution_count": 756,
   "metadata": {
    "tags": []
   },
   "outputs": [],
   "source": [
    "score_X['city_encoded'] = label_encoder.fit_transform(score_X['city'])"
   ]
  },
  {
   "cell_type": "code",
   "execution_count": 757,
   "metadata": {
    "tags": []
   },
   "outputs": [
    {
     "name": "stderr",
     "output_type": "stream",
     "text": [
      "/tmp/ipykernel_28/3804058985.py:1: SettingWithCopyWarning: \n",
      "A value is trying to be set on a copy of a slice from a DataFrame\n",
      "\n",
      "See the caveats in the documentation: https://pandas.pydata.org/pandas-docs/stable/user_guide/indexing.html#returning-a-view-versus-a-copy\n",
      "  train_X.drop(['city', 'month', 'hour', 'day_of_week'], axis=1, inplace=True)\n"
     ]
    }
   ],
   "source": [
    "train_X.drop(['city', 'month', 'hour', 'day_of_week'], axis=1, inplace=True)"
   ]
  },
  {
   "cell_type": "code",
   "execution_count": 758,
   "metadata": {
    "tags": []
   },
   "outputs": [
    {
     "name": "stderr",
     "output_type": "stream",
     "text": [
      "/tmp/ipykernel_28/3330754066.py:1: SettingWithCopyWarning: \n",
      "A value is trying to be set on a copy of a slice from a DataFrame\n",
      "\n",
      "See the caveats in the documentation: https://pandas.pydata.org/pandas-docs/stable/user_guide/indexing.html#returning-a-view-versus-a-copy\n",
      "  validate_X.drop(['city', 'month', 'hour', 'day_of_week'], axis=1, inplace=True)\n"
     ]
    }
   ],
   "source": [
    "validate_X.drop(['city', 'month', 'hour', 'day_of_week'], axis=1, inplace=True)"
   ]
  },
  {
   "cell_type": "code",
   "execution_count": 759,
   "metadata": {
    "tags": []
   },
   "outputs": [
    {
     "name": "stderr",
     "output_type": "stream",
     "text": [
      "/tmp/ipykernel_28/555932412.py:1: SettingWithCopyWarning: \n",
      "A value is trying to be set on a copy of a slice from a DataFrame\n",
      "\n",
      "See the caveats in the documentation: https://pandas.pydata.org/pandas-docs/stable/user_guide/indexing.html#returning-a-view-versus-a-copy\n",
      "  test_X.drop(['city', 'month', 'hour', 'day_of_week'], axis=1, inplace=True)\n"
     ]
    }
   ],
   "source": [
    "test_X.drop(['city', 'month', 'hour', 'day_of_week'], axis=1, inplace=True)"
   ]
  },
  {
   "cell_type": "code",
   "execution_count": 760,
   "metadata": {
    "tags": []
   },
   "outputs": [],
   "source": [
    "score_X.drop(['city', 'month', 'hour', 'day_of_week'], axis=1, inplace=True)"
   ]
  },
  {
   "cell_type": "code",
   "execution_count": 761,
   "metadata": {
    "tags": []
   },
   "outputs": [
    {
     "data": {
      "text/html": [
       "<div>\n",
       "<style scoped>\n",
       "    .dataframe tbody tr th:only-of-type {\n",
       "        vertical-align: middle;\n",
       "    }\n",
       "\n",
       "    .dataframe tbody tr th {\n",
       "        vertical-align: top;\n",
       "    }\n",
       "\n",
       "    .dataframe thead th {\n",
       "        text-align: right;\n",
       "    }\n",
       "</style>\n",
       "<table border=\"1\" class=\"dataframe\">\n",
       "  <thead>\n",
       "    <tr style=\"text-align: right;\">\n",
       "      <th></th>\n",
       "      <th>temperature</th>\n",
       "      <th>humidity</th>\n",
       "      <th>pressure</th>\n",
       "      <th>wind_speed</th>\n",
       "      <th>hour_sin</th>\n",
       "      <th>hour_cos</th>\n",
       "      <th>day_of_week_sin</th>\n",
       "      <th>day_of_week_cos</th>\n",
       "      <th>month_sin</th>\n",
       "      <th>month_cos</th>\n",
       "      <th>city_encoded</th>\n",
       "    </tr>\n",
       "  </thead>\n",
       "  <tbody>\n",
       "    <tr>\n",
       "      <th>0</th>\n",
       "      <td>276.323000</td>\n",
       "      <td>47.0</td>\n",
       "      <td>1031.0</td>\n",
       "      <td>3.0</td>\n",
       "      <td>7.071068e-01</td>\n",
       "      <td>-0.707107</td>\n",
       "      <td>0.0</td>\n",
       "      <td>1.0</td>\n",
       "      <td>0.5</td>\n",
       "      <td>0.866025</td>\n",
       "      <td>0</td>\n",
       "    </tr>\n",
       "    <tr>\n",
       "      <th>1</th>\n",
       "      <td>275.097667</td>\n",
       "      <td>45.0</td>\n",
       "      <td>1032.0</td>\n",
       "      <td>3.0</td>\n",
       "      <td>5.000000e-01</td>\n",
       "      <td>-0.866025</td>\n",
       "      <td>0.0</td>\n",
       "      <td>1.0</td>\n",
       "      <td>0.5</td>\n",
       "      <td>0.866025</td>\n",
       "      <td>0</td>\n",
       "    </tr>\n",
       "    <tr>\n",
       "      <th>2</th>\n",
       "      <td>273.931333</td>\n",
       "      <td>48.0</td>\n",
       "      <td>1032.0</td>\n",
       "      <td>2.0</td>\n",
       "      <td>2.588190e-01</td>\n",
       "      <td>-0.965926</td>\n",
       "      <td>0.0</td>\n",
       "      <td>1.0</td>\n",
       "      <td>0.5</td>\n",
       "      <td>0.866025</td>\n",
       "      <td>0</td>\n",
       "    </tr>\n",
       "    <tr>\n",
       "      <th>3</th>\n",
       "      <td>274.380000</td>\n",
       "      <td>46.0</td>\n",
       "      <td>1033.0</td>\n",
       "      <td>2.0</td>\n",
       "      <td>1.224647e-16</td>\n",
       "      <td>-1.000000</td>\n",
       "      <td>0.0</td>\n",
       "      <td>1.0</td>\n",
       "      <td>0.5</td>\n",
       "      <td>0.866025</td>\n",
       "      <td>0</td>\n",
       "    </tr>\n",
       "    <tr>\n",
       "      <th>4</th>\n",
       "      <td>272.675333</td>\n",
       "      <td>51.0</td>\n",
       "      <td>1033.0</td>\n",
       "      <td>1.0</td>\n",
       "      <td>-2.588190e-01</td>\n",
       "      <td>-0.965926</td>\n",
       "      <td>0.0</td>\n",
       "      <td>1.0</td>\n",
       "      <td>0.5</td>\n",
       "      <td>0.866025</td>\n",
       "      <td>0</td>\n",
       "    </tr>\n",
       "  </tbody>\n",
       "</table>\n",
       "</div>"
      ],
      "text/plain": [
       "   temperature  humidity  pressure  wind_speed      hour_sin  hour_cos  \\\n",
       "0   276.323000      47.0    1031.0         3.0  7.071068e-01 -0.707107   \n",
       "1   275.097667      45.0    1032.0         3.0  5.000000e-01 -0.866025   \n",
       "2   273.931333      48.0    1032.0         2.0  2.588190e-01 -0.965926   \n",
       "3   274.380000      46.0    1033.0         2.0  1.224647e-16 -1.000000   \n",
       "4   272.675333      51.0    1033.0         1.0 -2.588190e-01 -0.965926   \n",
       "\n",
       "   day_of_week_sin  day_of_week_cos  month_sin  month_cos  city_encoded  \n",
       "0              0.0              1.0        0.5   0.866025             0  \n",
       "1              0.0              1.0        0.5   0.866025             0  \n",
       "2              0.0              1.0        0.5   0.866025             0  \n",
       "3              0.0              1.0        0.5   0.866025             0  \n",
       "4              0.0              1.0        0.5   0.866025             0  "
      ]
     },
     "execution_count": 761,
     "metadata": {},
     "output_type": "execute_result"
    }
   ],
   "source": [
    "train_X.head()"
   ]
  },
  {
   "cell_type": "code",
   "execution_count": 762,
   "metadata": {
    "tags": []
   },
   "outputs": [
    {
     "data": {
      "text/html": [
       "<div>\n",
       "<style scoped>\n",
       "    .dataframe tbody tr th:only-of-type {\n",
       "        vertical-align: middle;\n",
       "    }\n",
       "\n",
       "    .dataframe tbody tr th {\n",
       "        vertical-align: top;\n",
       "    }\n",
       "\n",
       "    .dataframe thead th {\n",
       "        text-align: right;\n",
       "    }\n",
       "</style>\n",
       "<table border=\"1\" class=\"dataframe\">\n",
       "  <thead>\n",
       "    <tr style=\"text-align: right;\">\n",
       "      <th></th>\n",
       "      <th>temperature</th>\n",
       "      <th>humidity</th>\n",
       "      <th>pressure</th>\n",
       "      <th>wind_speed</th>\n",
       "      <th>hour_sin</th>\n",
       "      <th>hour_cos</th>\n",
       "      <th>day_of_week_sin</th>\n",
       "      <th>day_of_week_cos</th>\n",
       "      <th>month_sin</th>\n",
       "      <th>month_cos</th>\n",
       "      <th>city_encoded</th>\n",
       "    </tr>\n",
       "  </thead>\n",
       "  <tbody>\n",
       "    <tr>\n",
       "      <th>653352</th>\n",
       "      <td>276.650000</td>\n",
       "      <td>59.0</td>\n",
       "      <td>1027.0</td>\n",
       "      <td>5.0</td>\n",
       "      <td>-0.707107</td>\n",
       "      <td>0.707107</td>\n",
       "      <td>0.433884</td>\n",
       "      <td>-0.900969</td>\n",
       "      <td>0.866025</td>\n",
       "      <td>0.5</td>\n",
       "      <td>0</td>\n",
       "    </tr>\n",
       "    <tr>\n",
       "      <th>653353</th>\n",
       "      <td>279.030667</td>\n",
       "      <td>67.0</td>\n",
       "      <td>1036.0</td>\n",
       "      <td>2.0</td>\n",
       "      <td>-0.500000</td>\n",
       "      <td>0.866025</td>\n",
       "      <td>0.433884</td>\n",
       "      <td>-0.900969</td>\n",
       "      <td>0.866025</td>\n",
       "      <td>0.5</td>\n",
       "      <td>0</td>\n",
       "    </tr>\n",
       "    <tr>\n",
       "      <th>653354</th>\n",
       "      <td>276.855333</td>\n",
       "      <td>61.0</td>\n",
       "      <td>1031.0</td>\n",
       "      <td>3.0</td>\n",
       "      <td>-0.258819</td>\n",
       "      <td>0.965926</td>\n",
       "      <td>0.433884</td>\n",
       "      <td>-0.900969</td>\n",
       "      <td>0.866025</td>\n",
       "      <td>0.5</td>\n",
       "      <td>0</td>\n",
       "    </tr>\n",
       "    <tr>\n",
       "      <th>653355</th>\n",
       "      <td>274.680000</td>\n",
       "      <td>55.0</td>\n",
       "      <td>1027.0</td>\n",
       "      <td>4.0</td>\n",
       "      <td>0.000000</td>\n",
       "      <td>1.000000</td>\n",
       "      <td>-0.433884</td>\n",
       "      <td>-0.900969</td>\n",
       "      <td>0.866025</td>\n",
       "      <td>0.5</td>\n",
       "      <td>0</td>\n",
       "    </tr>\n",
       "    <tr>\n",
       "      <th>653356</th>\n",
       "      <td>273.495000</td>\n",
       "      <td>61.0</td>\n",
       "      <td>1027.0</td>\n",
       "      <td>3.0</td>\n",
       "      <td>0.258819</td>\n",
       "      <td>0.965926</td>\n",
       "      <td>-0.433884</td>\n",
       "      <td>-0.900969</td>\n",
       "      <td>0.866025</td>\n",
       "      <td>0.5</td>\n",
       "      <td>0</td>\n",
       "    </tr>\n",
       "  </tbody>\n",
       "</table>\n",
       "</div>"
      ],
      "text/plain": [
       "        temperature  humidity  pressure  wind_speed  hour_sin  hour_cos  \\\n",
       "653352   276.650000      59.0    1027.0         5.0 -0.707107  0.707107   \n",
       "653353   279.030667      67.0    1036.0         2.0 -0.500000  0.866025   \n",
       "653354   276.855333      61.0    1031.0         3.0 -0.258819  0.965926   \n",
       "653355   274.680000      55.0    1027.0         4.0  0.000000  1.000000   \n",
       "653356   273.495000      61.0    1027.0         3.0  0.258819  0.965926   \n",
       "\n",
       "        day_of_week_sin  day_of_week_cos  month_sin  month_cos  city_encoded  \n",
       "653352         0.433884        -0.900969   0.866025        0.5             0  \n",
       "653353         0.433884        -0.900969   0.866025        0.5             0  \n",
       "653354         0.433884        -0.900969   0.866025        0.5             0  \n",
       "653355        -0.433884        -0.900969   0.866025        0.5             0  \n",
       "653356        -0.433884        -0.900969   0.866025        0.5             0  "
      ]
     },
     "execution_count": 762,
     "metadata": {},
     "output_type": "execute_result"
    }
   ],
   "source": [
    "validate_X.head()"
   ]
  },
  {
   "cell_type": "code",
   "execution_count": 763,
   "metadata": {
    "tags": []
   },
   "outputs": [
    {
     "data": {
      "text/html": [
       "<div>\n",
       "<style scoped>\n",
       "    .dataframe tbody tr th:only-of-type {\n",
       "        vertical-align: middle;\n",
       "    }\n",
       "\n",
       "    .dataframe tbody tr th {\n",
       "        vertical-align: top;\n",
       "    }\n",
       "\n",
       "    .dataframe thead th {\n",
       "        text-align: right;\n",
       "    }\n",
       "</style>\n",
       "<table border=\"1\" class=\"dataframe\">\n",
       "  <thead>\n",
       "    <tr style=\"text-align: right;\">\n",
       "      <th></th>\n",
       "      <th>temperature</th>\n",
       "      <th>humidity</th>\n",
       "      <th>pressure</th>\n",
       "      <th>wind_speed</th>\n",
       "      <th>hour_sin</th>\n",
       "      <th>hour_cos</th>\n",
       "      <th>day_of_week_sin</th>\n",
       "      <th>day_of_week_cos</th>\n",
       "      <th>month_sin</th>\n",
       "      <th>month_cos</th>\n",
       "      <th>city_encoded</th>\n",
       "    </tr>\n",
       "  </thead>\n",
       "  <tbody>\n",
       "    <tr>\n",
       "      <th>793488</th>\n",
       "      <td>283.35</td>\n",
       "      <td>64.0</td>\n",
       "      <td>1019.0</td>\n",
       "      <td>3.0</td>\n",
       "      <td>0.258819</td>\n",
       "      <td>0.965926</td>\n",
       "      <td>-0.781831</td>\n",
       "      <td>0.62349</td>\n",
       "      <td>0.866025</td>\n",
       "      <td>-0.5</td>\n",
       "      <td>30</td>\n",
       "    </tr>\n",
       "    <tr>\n",
       "      <th>793489</th>\n",
       "      <td>281.71</td>\n",
       "      <td>71.0</td>\n",
       "      <td>1020.0</td>\n",
       "      <td>2.0</td>\n",
       "      <td>0.500000</td>\n",
       "      <td>0.866025</td>\n",
       "      <td>-0.781831</td>\n",
       "      <td>0.62349</td>\n",
       "      <td>0.866025</td>\n",
       "      <td>-0.5</td>\n",
       "      <td>30</td>\n",
       "    </tr>\n",
       "    <tr>\n",
       "      <th>793490</th>\n",
       "      <td>280.66</td>\n",
       "      <td>67.0</td>\n",
       "      <td>1021.0</td>\n",
       "      <td>1.0</td>\n",
       "      <td>0.707107</td>\n",
       "      <td>0.707107</td>\n",
       "      <td>-0.781831</td>\n",
       "      <td>0.62349</td>\n",
       "      <td>0.866025</td>\n",
       "      <td>-0.5</td>\n",
       "      <td>30</td>\n",
       "    </tr>\n",
       "    <tr>\n",
       "      <th>793491</th>\n",
       "      <td>279.64</td>\n",
       "      <td>90.0</td>\n",
       "      <td>1021.0</td>\n",
       "      <td>4.0</td>\n",
       "      <td>0.866025</td>\n",
       "      <td>0.500000</td>\n",
       "      <td>-0.781831</td>\n",
       "      <td>0.62349</td>\n",
       "      <td>0.866025</td>\n",
       "      <td>-0.5</td>\n",
       "      <td>30</td>\n",
       "    </tr>\n",
       "    <tr>\n",
       "      <th>793492</th>\n",
       "      <td>278.73</td>\n",
       "      <td>81.0</td>\n",
       "      <td>1021.0</td>\n",
       "      <td>2.0</td>\n",
       "      <td>0.965926</td>\n",
       "      <td>0.258819</td>\n",
       "      <td>-0.781831</td>\n",
       "      <td>0.62349</td>\n",
       "      <td>0.866025</td>\n",
       "      <td>-0.5</td>\n",
       "      <td>30</td>\n",
       "    </tr>\n",
       "  </tbody>\n",
       "</table>\n",
       "</div>"
      ],
      "text/plain": [
       "        temperature  humidity  pressure  wind_speed  hour_sin  hour_cos  \\\n",
       "793488       283.35      64.0    1019.0         3.0  0.258819  0.965926   \n",
       "793489       281.71      71.0    1020.0         2.0  0.500000  0.866025   \n",
       "793490       280.66      67.0    1021.0         1.0  0.707107  0.707107   \n",
       "793491       279.64      90.0    1021.0         4.0  0.866025  0.500000   \n",
       "793492       278.73      81.0    1021.0         2.0  0.965926  0.258819   \n",
       "\n",
       "        day_of_week_sin  day_of_week_cos  month_sin  month_cos  city_encoded  \n",
       "793488        -0.781831          0.62349   0.866025       -0.5            30  \n",
       "793489        -0.781831          0.62349   0.866025       -0.5            30  \n",
       "793490        -0.781831          0.62349   0.866025       -0.5            30  \n",
       "793491        -0.781831          0.62349   0.866025       -0.5            30  \n",
       "793492        -0.781831          0.62349   0.866025       -0.5            30  "
      ]
     },
     "execution_count": 763,
     "metadata": {},
     "output_type": "execute_result"
    }
   ],
   "source": [
    "test_X.head()"
   ]
  },
  {
   "cell_type": "code",
   "execution_count": 764,
   "metadata": {
    "tags": []
   },
   "outputs": [
    {
     "data": {
      "text/html": [
       "<div>\n",
       "<style scoped>\n",
       "    .dataframe tbody tr th:only-of-type {\n",
       "        vertical-align: middle;\n",
       "    }\n",
       "\n",
       "    .dataframe tbody tr th {\n",
       "        vertical-align: top;\n",
       "    }\n",
       "\n",
       "    .dataframe thead th {\n",
       "        text-align: right;\n",
       "    }\n",
       "</style>\n",
       "<table border=\"1\" class=\"dataframe\">\n",
       "  <thead>\n",
       "    <tr style=\"text-align: right;\">\n",
       "      <th></th>\n",
       "      <th>temperature</th>\n",
       "      <th>humidity</th>\n",
       "      <th>pressure</th>\n",
       "      <th>wind_speed</th>\n",
       "      <th>hour_sin</th>\n",
       "      <th>hour_cos</th>\n",
       "      <th>day_of_week_sin</th>\n",
       "      <th>day_of_week_cos</th>\n",
       "      <th>month_sin</th>\n",
       "      <th>month_cos</th>\n",
       "      <th>city_encoded</th>\n",
       "    </tr>\n",
       "  </thead>\n",
       "  <tbody>\n",
       "    <tr>\n",
       "      <th>0</th>\n",
       "      <td>292.03</td>\n",
       "      <td>49.0</td>\n",
       "      <td>1027.0</td>\n",
       "      <td>3.0</td>\n",
       "      <td>-0.258819</td>\n",
       "      <td>-0.965926</td>\n",
       "      <td>-0.974928</td>\n",
       "      <td>-0.222521</td>\n",
       "      <td>1.224647e-16</td>\n",
       "      <td>-1.0</td>\n",
       "      <td>0</td>\n",
       "    </tr>\n",
       "    <tr>\n",
       "      <th>1</th>\n",
       "      <td>292.07</td>\n",
       "      <td>56.0</td>\n",
       "      <td>1027.0</td>\n",
       "      <td>3.0</td>\n",
       "      <td>-0.500000</td>\n",
       "      <td>-0.866025</td>\n",
       "      <td>-0.974928</td>\n",
       "      <td>-0.222521</td>\n",
       "      <td>1.224647e-16</td>\n",
       "      <td>-1.0</td>\n",
       "      <td>0</td>\n",
       "    </tr>\n",
       "    <tr>\n",
       "      <th>2</th>\n",
       "      <td>295.62</td>\n",
       "      <td>49.0</td>\n",
       "      <td>1028.0</td>\n",
       "      <td>2.0</td>\n",
       "      <td>-0.707107</td>\n",
       "      <td>-0.707107</td>\n",
       "      <td>-0.974928</td>\n",
       "      <td>-0.222521</td>\n",
       "      <td>1.224647e-16</td>\n",
       "      <td>-1.0</td>\n",
       "      <td>0</td>\n",
       "    </tr>\n",
       "    <tr>\n",
       "      <th>3</th>\n",
       "      <td>296.63</td>\n",
       "      <td>44.0</td>\n",
       "      <td>1028.0</td>\n",
       "      <td>3.0</td>\n",
       "      <td>-0.866025</td>\n",
       "      <td>-0.500000</td>\n",
       "      <td>-0.974928</td>\n",
       "      <td>-0.222521</td>\n",
       "      <td>1.224647e-16</td>\n",
       "      <td>-1.0</td>\n",
       "      <td>0</td>\n",
       "    </tr>\n",
       "    <tr>\n",
       "      <th>4</th>\n",
       "      <td>299.15</td>\n",
       "      <td>36.0</td>\n",
       "      <td>1027.0</td>\n",
       "      <td>3.0</td>\n",
       "      <td>-0.965926</td>\n",
       "      <td>-0.258819</td>\n",
       "      <td>-0.974928</td>\n",
       "      <td>-0.222521</td>\n",
       "      <td>1.224647e-16</td>\n",
       "      <td>-1.0</td>\n",
       "      <td>0</td>\n",
       "    </tr>\n",
       "  </tbody>\n",
       "</table>\n",
       "</div>"
      ],
      "text/plain": [
       "   temperature  humidity  pressure  wind_speed  hour_sin  hour_cos  \\\n",
       "0       292.03      49.0    1027.0         3.0 -0.258819 -0.965926   \n",
       "1       292.07      56.0    1027.0         3.0 -0.500000 -0.866025   \n",
       "2       295.62      49.0    1028.0         2.0 -0.707107 -0.707107   \n",
       "3       296.63      44.0    1028.0         3.0 -0.866025 -0.500000   \n",
       "4       299.15      36.0    1027.0         3.0 -0.965926 -0.258819   \n",
       "\n",
       "   day_of_week_sin  day_of_week_cos     month_sin  month_cos  city_encoded  \n",
       "0        -0.974928        -0.222521  1.224647e-16       -1.0             0  \n",
       "1        -0.974928        -0.222521  1.224647e-16       -1.0             0  \n",
       "2        -0.974928        -0.222521  1.224647e-16       -1.0             0  \n",
       "3        -0.974928        -0.222521  1.224647e-16       -1.0             0  \n",
       "4        -0.974928        -0.222521  1.224647e-16       -1.0             0  "
      ]
     },
     "execution_count": 764,
     "metadata": {},
     "output_type": "execute_result"
    }
   ],
   "source": [
    "score_X.head()"
   ]
  },
  {
   "cell_type": "code",
   "execution_count": 765,
   "metadata": {
    "tags": []
   },
   "outputs": [
    {
     "data": {
      "text/plain": [
       "(653352, 1)"
      ]
     },
     "execution_count": 765,
     "metadata": {},
     "output_type": "execute_result"
    }
   ],
   "source": [
    "train_y.shape"
   ]
  },
  {
   "cell_type": "code",
   "execution_count": 766,
   "metadata": {
    "tags": []
   },
   "outputs": [
    {
     "data": {
      "text/plain": [
       "(140136, 1)"
      ]
     },
     "execution_count": 766,
     "metadata": {},
     "output_type": "execute_result"
    }
   ],
   "source": [
    "validate_y.shape"
   ]
  },
  {
   "cell_type": "code",
   "execution_count": 767,
   "metadata": {
    "tags": []
   },
   "outputs": [],
   "source": [
    "train_columns = train_X.columns\n",
    "\n",
    "# Align columns in validate_X\n",
    "for col in train_columns:\n",
    "    if col not in score_X.columns:\n",
    "        score_X[col] = 0"
   ]
  },
  {
   "cell_type": "code",
   "execution_count": 768,
   "metadata": {
    "tags": []
   },
   "outputs": [
    {
     "data": {
      "text/plain": [
       "(57576, 11)"
      ]
     },
     "execution_count": 768,
     "metadata": {},
     "output_type": "execute_result"
    }
   ],
   "source": [
    "score_X.shape"
   ]
  },
  {
   "cell_type": "code",
   "execution_count": 769,
   "metadata": {
    "tags": []
   },
   "outputs": [
    {
     "data": {
      "text/html": [
       "<div>\n",
       "<style scoped>\n",
       "    .dataframe tbody tr th:only-of-type {\n",
       "        vertical-align: middle;\n",
       "    }\n",
       "\n",
       "    .dataframe tbody tr th {\n",
       "        vertical-align: top;\n",
       "    }\n",
       "\n",
       "    .dataframe thead th {\n",
       "        text-align: right;\n",
       "    }\n",
       "</style>\n",
       "<table border=\"1\" class=\"dataframe\">\n",
       "  <thead>\n",
       "    <tr style=\"text-align: right;\">\n",
       "      <th></th>\n",
       "      <th>temperature</th>\n",
       "      <th>humidity</th>\n",
       "      <th>pressure</th>\n",
       "      <th>wind_speed</th>\n",
       "      <th>hour_sin</th>\n",
       "      <th>hour_cos</th>\n",
       "      <th>day_of_week_sin</th>\n",
       "      <th>day_of_week_cos</th>\n",
       "      <th>month_sin</th>\n",
       "      <th>month_cos</th>\n",
       "      <th>city_encoded</th>\n",
       "    </tr>\n",
       "  </thead>\n",
       "  <tbody>\n",
       "    <tr>\n",
       "      <th>0</th>\n",
       "      <td>292.03</td>\n",
       "      <td>49.0</td>\n",
       "      <td>1027.0</td>\n",
       "      <td>3.0</td>\n",
       "      <td>-0.258819</td>\n",
       "      <td>-9.659258e-01</td>\n",
       "      <td>-0.974928</td>\n",
       "      <td>-0.222521</td>\n",
       "      <td>1.224647e-16</td>\n",
       "      <td>-1.0</td>\n",
       "      <td>0</td>\n",
       "    </tr>\n",
       "    <tr>\n",
       "      <th>1</th>\n",
       "      <td>292.07</td>\n",
       "      <td>56.0</td>\n",
       "      <td>1027.0</td>\n",
       "      <td>3.0</td>\n",
       "      <td>-0.500000</td>\n",
       "      <td>-8.660254e-01</td>\n",
       "      <td>-0.974928</td>\n",
       "      <td>-0.222521</td>\n",
       "      <td>1.224647e-16</td>\n",
       "      <td>-1.0</td>\n",
       "      <td>0</td>\n",
       "    </tr>\n",
       "    <tr>\n",
       "      <th>2</th>\n",
       "      <td>295.62</td>\n",
       "      <td>49.0</td>\n",
       "      <td>1028.0</td>\n",
       "      <td>2.0</td>\n",
       "      <td>-0.707107</td>\n",
       "      <td>-7.071068e-01</td>\n",
       "      <td>-0.974928</td>\n",
       "      <td>-0.222521</td>\n",
       "      <td>1.224647e-16</td>\n",
       "      <td>-1.0</td>\n",
       "      <td>0</td>\n",
       "    </tr>\n",
       "    <tr>\n",
       "      <th>3</th>\n",
       "      <td>296.63</td>\n",
       "      <td>44.0</td>\n",
       "      <td>1028.0</td>\n",
       "      <td>3.0</td>\n",
       "      <td>-0.866025</td>\n",
       "      <td>-5.000000e-01</td>\n",
       "      <td>-0.974928</td>\n",
       "      <td>-0.222521</td>\n",
       "      <td>1.224647e-16</td>\n",
       "      <td>-1.0</td>\n",
       "      <td>0</td>\n",
       "    </tr>\n",
       "    <tr>\n",
       "      <th>4</th>\n",
       "      <td>299.15</td>\n",
       "      <td>36.0</td>\n",
       "      <td>1027.0</td>\n",
       "      <td>3.0</td>\n",
       "      <td>-0.965926</td>\n",
       "      <td>-2.588190e-01</td>\n",
       "      <td>-0.974928</td>\n",
       "      <td>-0.222521</td>\n",
       "      <td>1.224647e-16</td>\n",
       "      <td>-1.0</td>\n",
       "      <td>0</td>\n",
       "    </tr>\n",
       "    <tr>\n",
       "      <th>...</th>\n",
       "      <td>...</td>\n",
       "      <td>...</td>\n",
       "      <td>...</td>\n",
       "      <td>...</td>\n",
       "      <td>...</td>\n",
       "      <td>...</td>\n",
       "      <td>...</td>\n",
       "      <td>...</td>\n",
       "      <td>...</td>\n",
       "      <td>...</td>\n",
       "      <td>...</td>\n",
       "    </tr>\n",
       "    <tr>\n",
       "      <th>57571</th>\n",
       "      <td>292.10</td>\n",
       "      <td>50.0</td>\n",
       "      <td>1024.0</td>\n",
       "      <td>2.0</td>\n",
       "      <td>-0.866025</td>\n",
       "      <td>-5.000000e-01</td>\n",
       "      <td>-0.433884</td>\n",
       "      <td>-0.900969</td>\n",
       "      <td>1.224647e-16</td>\n",
       "      <td>-1.0</td>\n",
       "      <td>27</td>\n",
       "    </tr>\n",
       "    <tr>\n",
       "      <th>57572</th>\n",
       "      <td>291.82</td>\n",
       "      <td>67.0</td>\n",
       "      <td>1021.0</td>\n",
       "      <td>5.0</td>\n",
       "      <td>-0.965926</td>\n",
       "      <td>-2.588190e-01</td>\n",
       "      <td>-0.433884</td>\n",
       "      <td>-0.900969</td>\n",
       "      <td>1.224647e-16</td>\n",
       "      <td>-1.0</td>\n",
       "      <td>27</td>\n",
       "    </tr>\n",
       "    <tr>\n",
       "      <th>57573</th>\n",
       "      <td>292.65</td>\n",
       "      <td>63.0</td>\n",
       "      <td>1021.0</td>\n",
       "      <td>5.0</td>\n",
       "      <td>-1.000000</td>\n",
       "      <td>-1.836970e-16</td>\n",
       "      <td>-0.433884</td>\n",
       "      <td>-0.900969</td>\n",
       "      <td>1.224647e-16</td>\n",
       "      <td>-1.0</td>\n",
       "      <td>27</td>\n",
       "    </tr>\n",
       "    <tr>\n",
       "      <th>57574</th>\n",
       "      <td>291.81</td>\n",
       "      <td>59.0</td>\n",
       "      <td>1022.0</td>\n",
       "      <td>8.0</td>\n",
       "      <td>-0.965926</td>\n",
       "      <td>2.588190e-01</td>\n",
       "      <td>-0.433884</td>\n",
       "      <td>-0.900969</td>\n",
       "      <td>1.224647e-16</td>\n",
       "      <td>-1.0</td>\n",
       "      <td>27</td>\n",
       "    </tr>\n",
       "    <tr>\n",
       "      <th>57575</th>\n",
       "      <td>292.17</td>\n",
       "      <td>77.0</td>\n",
       "      <td>1009.0</td>\n",
       "      <td>8.0</td>\n",
       "      <td>-0.866025</td>\n",
       "      <td>5.000000e-01</td>\n",
       "      <td>-0.433884</td>\n",
       "      <td>-0.900969</td>\n",
       "      <td>1.224647e-16</td>\n",
       "      <td>-1.0</td>\n",
       "      <td>27</td>\n",
       "    </tr>\n",
       "  </tbody>\n",
       "</table>\n",
       "<p>57576 rows × 11 columns</p>\n",
       "</div>"
      ],
      "text/plain": [
       "       temperature  humidity  pressure  wind_speed  hour_sin      hour_cos  \\\n",
       "0           292.03      49.0    1027.0         3.0 -0.258819 -9.659258e-01   \n",
       "1           292.07      56.0    1027.0         3.0 -0.500000 -8.660254e-01   \n",
       "2           295.62      49.0    1028.0         2.0 -0.707107 -7.071068e-01   \n",
       "3           296.63      44.0    1028.0         3.0 -0.866025 -5.000000e-01   \n",
       "4           299.15      36.0    1027.0         3.0 -0.965926 -2.588190e-01   \n",
       "...            ...       ...       ...         ...       ...           ...   \n",
       "57571       292.10      50.0    1024.0         2.0 -0.866025 -5.000000e-01   \n",
       "57572       291.82      67.0    1021.0         5.0 -0.965926 -2.588190e-01   \n",
       "57573       292.65      63.0    1021.0         5.0 -1.000000 -1.836970e-16   \n",
       "57574       291.81      59.0    1022.0         8.0 -0.965926  2.588190e-01   \n",
       "57575       292.17      77.0    1009.0         8.0 -0.866025  5.000000e-01   \n",
       "\n",
       "       day_of_week_sin  day_of_week_cos     month_sin  month_cos  city_encoded  \n",
       "0            -0.974928        -0.222521  1.224647e-16       -1.0             0  \n",
       "1            -0.974928        -0.222521  1.224647e-16       -1.0             0  \n",
       "2            -0.974928        -0.222521  1.224647e-16       -1.0             0  \n",
       "3            -0.974928        -0.222521  1.224647e-16       -1.0             0  \n",
       "4            -0.974928        -0.222521  1.224647e-16       -1.0             0  \n",
       "...                ...              ...           ...        ...           ...  \n",
       "57571        -0.433884        -0.900969  1.224647e-16       -1.0            27  \n",
       "57572        -0.433884        -0.900969  1.224647e-16       -1.0            27  \n",
       "57573        -0.433884        -0.900969  1.224647e-16       -1.0            27  \n",
       "57574        -0.433884        -0.900969  1.224647e-16       -1.0            27  \n",
       "57575        -0.433884        -0.900969  1.224647e-16       -1.0            27  \n",
       "\n",
       "[57576 rows x 11 columns]"
      ]
     },
     "execution_count": 769,
     "metadata": {},
     "output_type": "execute_result"
    }
   ],
   "source": [
    "score_X.reindex(columns=train_X.columns, fill_value=0)"
   ]
  },
  {
   "cell_type": "code",
   "execution_count": 771,
   "metadata": {
    "colab": {},
    "colab_type": "code",
    "id": "YFwIPc1gAsw_",
    "tags": []
   },
   "outputs": [],
   "source": [
    "from sklearn.preprocessing import StandardScaler\n",
    "\n",
    "scaler = StandardScaler()\n",
    "scaler.fit(train_X)\n",
    "\n",
    "scaled_X = {\n",
    "    'train': scaler.transform(train_X),\n",
    "    'validate': scaler.transform(validate_X),\n",
    "    'test': scaler.transform(test_X),\n",
    "    'score': scaler.transform(score_X),\n",
    "}"
   ]
  },
  {
   "cell_type": "code",
   "execution_count": 772,
   "metadata": {
    "tags": []
   },
   "outputs": [],
   "source": [
    "features_length = 11"
   ]
  },
  {
   "cell_type": "code",
   "execution_count": 773,
   "metadata": {
    "colab": {
     "base_uri": "https://localhost:8080/",
     "height": 111
    },
    "colab_type": "code",
    "id": "myyBIe08AsxA",
    "outputId": "4e8b4165-7db7-4507-b4f5-27d27e6ea9e6",
    "tags": []
   },
   "outputs": [
    {
     "data": {
      "text/html": [
       "<div>\n",
       "<style scoped>\n",
       "    .dataframe tbody tr th:only-of-type {\n",
       "        vertical-align: middle;\n",
       "    }\n",
       "\n",
       "    .dataframe tbody tr th {\n",
       "        vertical-align: top;\n",
       "    }\n",
       "\n",
       "    .dataframe thead th {\n",
       "        text-align: right;\n",
       "    }\n",
       "</style>\n",
       "<table border=\"1\" class=\"dataframe\">\n",
       "  <thead>\n",
       "    <tr style=\"text-align: right;\">\n",
       "      <th></th>\n",
       "      <th>actual shape</th>\n",
       "      <th>expected shape</th>\n",
       "    </tr>\n",
       "  </thead>\n",
       "  <tbody>\n",
       "    <tr>\n",
       "      <th>train_X</th>\n",
       "      <td>(653352, 11)</td>\n",
       "      <td>(27223, 24, 11)</td>\n",
       "    </tr>\n",
       "    <tr>\n",
       "      <th>train_y</th>\n",
       "      <td>(653352, 1)</td>\n",
       "      <td>(27223, 24)</td>\n",
       "    </tr>\n",
       "  </tbody>\n",
       "</table>\n",
       "</div>"
      ],
      "text/plain": [
       "         actual shape   expected shape\n",
       "train_X  (653352, 11)  (27223, 24, 11)\n",
       "train_y   (653352, 1)      (27223, 24)"
      ]
     },
     "execution_count": 773,
     "metadata": {},
     "output_type": "execute_result"
    }
   ],
   "source": [
    "\n",
    "\n",
    "def expected_X_shape(actual_X_shape):\n",
    "    return (int(actual_X_shape[0]/condition_window), condition_window, features_length)\n",
    "\n",
    "def expected_y_shape(actual_y_shape):\n",
    "    return (int(actual_y_shape[0]/prediction_window), prediction_window)\n",
    "\n",
    "\n",
    "pd.DataFrame({\n",
    "    'actual shape': [\n",
    "        train_X.shape, \n",
    "        train_y.shape,\n",
    "    ],\n",
    "    'expected shape': [\n",
    "        expected_X_shape(train_X.shape), \n",
    "        expected_y_shape(train_y.shape), \n",
    "    ],\n",
    "}, index=['train_X', 'train_y'])"
   ]
  },
  {
   "cell_type": "code",
   "execution_count": 774,
   "metadata": {
    "colab": {},
    "colab_type": "code",
    "id": "Qdij8ebfAsxC",
    "tags": []
   },
   "outputs": [],
   "source": [
    "\n",
    "\n",
    "def frame_to_ndarray(frame_X, frame_y):\n",
    "    X_nd = frame_X.reshape(-1, condition_window, features_length).astype('float32')\n",
    "    y_nd = frame_y['temperature'].values.reshape(-1, prediction_window).astype('float32')\n",
    "    return X_nd, y_nd\n",
    "def frame_to_ndarray_score(frame_X):\n",
    "    X_nd = frame_X.reshape(-1, condition_window, features_length).astype('float32')\n",
    "    return X_nd\n",
    "\n",
    "train_X_nd, train_y_nd = frame_to_ndarray(scaled_X['train'], train_y)\n",
    "validate_X_nd, validate_y_nd = frame_to_ndarray(scaled_X['validate'], validate_y)\n",
    "test_X_nd, test_y_nd = frame_to_ndarray(scaled_X['test'], test_y)\n",
    "score_X_nd = frame_to_ndarray_score(scaled_X['score'])\n"
   ]
  },
  {
   "cell_type": "code",
   "execution_count": 775,
   "metadata": {
    "colab": {
     "base_uri": "https://localhost:8080/",
     "height": 173
    },
    "colab_type": "code",
    "id": "6VWroyVIAsxD",
    "outputId": "90de2f95-244f-4264-b361-605bc125634b",
    "tags": []
   },
   "outputs": [
    {
     "data": {
      "text/html": [
       "<div>\n",
       "<style scoped>\n",
       "    .dataframe tbody tr th:only-of-type {\n",
       "        vertical-align: middle;\n",
       "    }\n",
       "\n",
       "    .dataframe tbody tr th {\n",
       "        vertical-align: top;\n",
       "    }\n",
       "\n",
       "    .dataframe thead th {\n",
       "        text-align: right;\n",
       "    }\n",
       "</style>\n",
       "<table border=\"1\" class=\"dataframe\">\n",
       "  <thead>\n",
       "    <tr style=\"text-align: right;\">\n",
       "      <th></th>\n",
       "      <th>actual shape</th>\n",
       "      <th>expected shape</th>\n",
       "    </tr>\n",
       "  </thead>\n",
       "  <tbody>\n",
       "    <tr>\n",
       "      <th>train_X</th>\n",
       "      <td>(27223, 24, 11)</td>\n",
       "      <td>(27223, 24, 11)</td>\n",
       "    </tr>\n",
       "    <tr>\n",
       "      <th>train_y</th>\n",
       "      <td>(27223, 24)</td>\n",
       "      <td>(27223, 24)</td>\n",
       "    </tr>\n",
       "    <tr>\n",
       "      <th>validate_X</th>\n",
       "      <td>(5839, 24, 11)</td>\n",
       "      <td>(5839, 24, 11)</td>\n",
       "    </tr>\n",
       "    <tr>\n",
       "      <th>validate_y</th>\n",
       "      <td>(5839, 24)</td>\n",
       "      <td>(5839, 24)</td>\n",
       "    </tr>\n",
       "  </tbody>\n",
       "</table>\n",
       "</div>"
      ],
      "text/plain": [
       "               actual shape   expected shape\n",
       "train_X     (27223, 24, 11)  (27223, 24, 11)\n",
       "train_y         (27223, 24)      (27223, 24)\n",
       "validate_X   (5839, 24, 11)   (5839, 24, 11)\n",
       "validate_y       (5839, 24)       (5839, 24)"
      ]
     },
     "execution_count": 775,
     "metadata": {},
     "output_type": "execute_result"
    }
   ],
   "source": [
    "\n",
    "\n",
    "pd.DataFrame({\n",
    "    'actual shape': [\n",
    "        train_X_nd.shape, \n",
    "        train_y_nd.shape,\n",
    "        validate_X_nd.shape,\n",
    "        validate_y_nd.shape,\n",
    "    ],\n",
    "    'expected shape': [\n",
    "        expected_X_shape(train_X.shape), \n",
    "        expected_y_shape(train_y.shape), \n",
    "        expected_X_shape(validate_X.shape), \n",
    "        expected_y_shape(validate_y.shape), \n",
    "    ]},\n",
    "    index=['train_X', 'train_y', 'validate_X', 'validate_y']\n",
    ")"
   ]
  },
  {
   "cell_type": "code",
   "execution_count": 783,
   "metadata": {
    "tags": []
   },
   "outputs": [],
   "source": [
    "dropout_rate = 0.3  \n",
    "learning_rate = 1e-3 \n",
    "l1_reg = 1e-1\n",
    "clip_value = 1.0 \n",
    "features_length = 11"
   ]
  },
  {
   "cell_type": "code",
   "execution_count": null,
   "metadata": {},
   "outputs": [],
   "source": []
  },
  {
   "cell_type": "code",
   "execution_count": 784,
   "metadata": {
    "colab": {
     "base_uri": "https://localhost:8080/",
     "height": 88
    },
    "colab_type": "code",
    "id": "ua-ejkVSAsxF",
    "outputId": "68550ae1-bb43-4217-84c5-4399224181a7",
    "tags": []
   },
   "outputs": [
    {
     "name": "stderr",
     "output_type": "stream",
     "text": [
      "/app/conda/envs/collegium/lib/python3.10/site-packages/keras/src/layers/rnn/rnn.py:204: UserWarning: Do not pass an `input_shape`/`input_dim` argument to a layer. When using Sequential models, prefer using an `Input(shape)` object as the first layer in the model instead.\n",
      "  super().__init__(**kwargs)\n"
     ]
    },
    {
     "data": {
      "text/html": [
       "<pre style=\"white-space:pre;overflow-x:auto;line-height:normal;font-family:Menlo,'DejaVu Sans Mono',consolas,'Courier New',monospace\"><span style=\"font-weight: bold\">Model: \"sequential_43\"</span>\n",
       "</pre>\n"
      ],
      "text/plain": [
       "\u001b[1mModel: \"sequential_43\"\u001b[0m\n"
      ]
     },
     "metadata": {},
     "output_type": "display_data"
    },
    {
     "data": {
      "text/html": [
       "<pre style=\"white-space:pre;overflow-x:auto;line-height:normal;font-family:Menlo,'DejaVu Sans Mono',consolas,'Courier New',monospace\">┏━━━━━━━━━━━━━━━━━━━━━━━━━━━━━━━━━┳━━━━━━━━━━━━━━━━━━━━━━━━┳━━━━━━━━━━━━━━━┓\n",
       "┃<span style=\"font-weight: bold\"> Layer (type)                    </span>┃<span style=\"font-weight: bold\"> Output Shape           </span>┃<span style=\"font-weight: bold\">       Param # </span>┃\n",
       "┡━━━━━━━━━━━━━━━━━━━━━━━━━━━━━━━━━╇━━━━━━━━━━━━━━━━━━━━━━━━╇━━━━━━━━━━━━━━━┩\n",
       "│ lstm_120 (<span style=\"color: #0087ff; text-decoration-color: #0087ff\">LSTM</span>)                 │ (<span style=\"color: #00d7ff; text-decoration-color: #00d7ff\">None</span>, <span style=\"color: #00af00; text-decoration-color: #00af00\">24</span>, <span style=\"color: #00af00; text-decoration-color: #00af00\">40</span>)         │         <span style=\"color: #00af00; text-decoration-color: #00af00\">8,320</span> │\n",
       "├─────────────────────────────────┼────────────────────────┼───────────────┤\n",
       "│ dropout_86 (<span style=\"color: #0087ff; text-decoration-color: #0087ff\">Dropout</span>)            │ (<span style=\"color: #00d7ff; text-decoration-color: #00d7ff\">None</span>, <span style=\"color: #00af00; text-decoration-color: #00af00\">24</span>, <span style=\"color: #00af00; text-decoration-color: #00af00\">40</span>)         │             <span style=\"color: #00af00; text-decoration-color: #00af00\">0</span> │\n",
       "├─────────────────────────────────┼────────────────────────┼───────────────┤\n",
       "│ batch_normalization_136         │ (<span style=\"color: #00d7ff; text-decoration-color: #00d7ff\">None</span>, <span style=\"color: #00af00; text-decoration-color: #00af00\">24</span>, <span style=\"color: #00af00; text-decoration-color: #00af00\">40</span>)         │           <span style=\"color: #00af00; text-decoration-color: #00af00\">160</span> │\n",
       "│ (<span style=\"color: #0087ff; text-decoration-color: #0087ff\">BatchNormalization</span>)            │                        │               │\n",
       "├─────────────────────────────────┼────────────────────────┼───────────────┤\n",
       "│ lstm_121 (<span style=\"color: #0087ff; text-decoration-color: #0087ff\">LSTM</span>)                 │ (<span style=\"color: #00d7ff; text-decoration-color: #00d7ff\">None</span>, <span style=\"color: #00af00; text-decoration-color: #00af00\">24</span>, <span style=\"color: #00af00; text-decoration-color: #00af00\">40</span>)         │        <span style=\"color: #00af00; text-decoration-color: #00af00\">12,960</span> │\n",
       "├─────────────────────────────────┼────────────────────────┼───────────────┤\n",
       "│ dropout_87 (<span style=\"color: #0087ff; text-decoration-color: #0087ff\">Dropout</span>)            │ (<span style=\"color: #00d7ff; text-decoration-color: #00d7ff\">None</span>, <span style=\"color: #00af00; text-decoration-color: #00af00\">24</span>, <span style=\"color: #00af00; text-decoration-color: #00af00\">40</span>)         │             <span style=\"color: #00af00; text-decoration-color: #00af00\">0</span> │\n",
       "├─────────────────────────────────┼────────────────────────┼───────────────┤\n",
       "│ batch_normalization_137         │ (<span style=\"color: #00d7ff; text-decoration-color: #00d7ff\">None</span>, <span style=\"color: #00af00; text-decoration-color: #00af00\">24</span>, <span style=\"color: #00af00; text-decoration-color: #00af00\">40</span>)         │           <span style=\"color: #00af00; text-decoration-color: #00af00\">160</span> │\n",
       "│ (<span style=\"color: #0087ff; text-decoration-color: #0087ff\">BatchNormalization</span>)            │                        │               │\n",
       "├─────────────────────────────────┼────────────────────────┼───────────────┤\n",
       "│ lstm_122 (<span style=\"color: #0087ff; text-decoration-color: #0087ff\">LSTM</span>)                 │ (<span style=\"color: #00d7ff; text-decoration-color: #00d7ff\">None</span>, <span style=\"color: #00af00; text-decoration-color: #00af00\">40</span>)             │        <span style=\"color: #00af00; text-decoration-color: #00af00\">12,960</span> │\n",
       "├─────────────────────────────────┼────────────────────────┼───────────────┤\n",
       "│ batch_normalization_138         │ (<span style=\"color: #00d7ff; text-decoration-color: #00d7ff\">None</span>, <span style=\"color: #00af00; text-decoration-color: #00af00\">40</span>)             │           <span style=\"color: #00af00; text-decoration-color: #00af00\">160</span> │\n",
       "│ (<span style=\"color: #0087ff; text-decoration-color: #0087ff\">BatchNormalization</span>)            │                        │               │\n",
       "├─────────────────────────────────┼────────────────────────┼───────────────┤\n",
       "│ dense_45 (<span style=\"color: #0087ff; text-decoration-color: #0087ff\">Dense</span>)                │ (<span style=\"color: #00d7ff; text-decoration-color: #00d7ff\">None</span>, <span style=\"color: #00af00; text-decoration-color: #00af00\">24</span>)             │           <span style=\"color: #00af00; text-decoration-color: #00af00\">984</span> │\n",
       "└─────────────────────────────────┴────────────────────────┴───────────────┘\n",
       "</pre>\n"
      ],
      "text/plain": [
       "┏━━━━━━━━━━━━━━━━━━━━━━━━━━━━━━━━━┳━━━━━━━━━━━━━━━━━━━━━━━━┳━━━━━━━━━━━━━━━┓\n",
       "┃\u001b[1m \u001b[0m\u001b[1mLayer (type)                   \u001b[0m\u001b[1m \u001b[0m┃\u001b[1m \u001b[0m\u001b[1mOutput Shape          \u001b[0m\u001b[1m \u001b[0m┃\u001b[1m \u001b[0m\u001b[1m      Param #\u001b[0m\u001b[1m \u001b[0m┃\n",
       "┡━━━━━━━━━━━━━━━━━━━━━━━━━━━━━━━━━╇━━━━━━━━━━━━━━━━━━━━━━━━╇━━━━━━━━━━━━━━━┩\n",
       "│ lstm_120 (\u001b[38;5;33mLSTM\u001b[0m)                 │ (\u001b[38;5;45mNone\u001b[0m, \u001b[38;5;34m24\u001b[0m, \u001b[38;5;34m40\u001b[0m)         │         \u001b[38;5;34m8,320\u001b[0m │\n",
       "├─────────────────────────────────┼────────────────────────┼───────────────┤\n",
       "│ dropout_86 (\u001b[38;5;33mDropout\u001b[0m)            │ (\u001b[38;5;45mNone\u001b[0m, \u001b[38;5;34m24\u001b[0m, \u001b[38;5;34m40\u001b[0m)         │             \u001b[38;5;34m0\u001b[0m │\n",
       "├─────────────────────────────────┼────────────────────────┼───────────────┤\n",
       "│ batch_normalization_136         │ (\u001b[38;5;45mNone\u001b[0m, \u001b[38;5;34m24\u001b[0m, \u001b[38;5;34m40\u001b[0m)         │           \u001b[38;5;34m160\u001b[0m │\n",
       "│ (\u001b[38;5;33mBatchNormalization\u001b[0m)            │                        │               │\n",
       "├─────────────────────────────────┼────────────────────────┼───────────────┤\n",
       "│ lstm_121 (\u001b[38;5;33mLSTM\u001b[0m)                 │ (\u001b[38;5;45mNone\u001b[0m, \u001b[38;5;34m24\u001b[0m, \u001b[38;5;34m40\u001b[0m)         │        \u001b[38;5;34m12,960\u001b[0m │\n",
       "├─────────────────────────────────┼────────────────────────┼───────────────┤\n",
       "│ dropout_87 (\u001b[38;5;33mDropout\u001b[0m)            │ (\u001b[38;5;45mNone\u001b[0m, \u001b[38;5;34m24\u001b[0m, \u001b[38;5;34m40\u001b[0m)         │             \u001b[38;5;34m0\u001b[0m │\n",
       "├─────────────────────────────────┼────────────────────────┼───────────────┤\n",
       "│ batch_normalization_137         │ (\u001b[38;5;45mNone\u001b[0m, \u001b[38;5;34m24\u001b[0m, \u001b[38;5;34m40\u001b[0m)         │           \u001b[38;5;34m160\u001b[0m │\n",
       "│ (\u001b[38;5;33mBatchNormalization\u001b[0m)            │                        │               │\n",
       "├─────────────────────────────────┼────────────────────────┼───────────────┤\n",
       "│ lstm_122 (\u001b[38;5;33mLSTM\u001b[0m)                 │ (\u001b[38;5;45mNone\u001b[0m, \u001b[38;5;34m40\u001b[0m)             │        \u001b[38;5;34m12,960\u001b[0m │\n",
       "├─────────────────────────────────┼────────────────────────┼───────────────┤\n",
       "│ batch_normalization_138         │ (\u001b[38;5;45mNone\u001b[0m, \u001b[38;5;34m40\u001b[0m)             │           \u001b[38;5;34m160\u001b[0m │\n",
       "│ (\u001b[38;5;33mBatchNormalization\u001b[0m)            │                        │               │\n",
       "├─────────────────────────────────┼────────────────────────┼───────────────┤\n",
       "│ dense_45 (\u001b[38;5;33mDense\u001b[0m)                │ (\u001b[38;5;45mNone\u001b[0m, \u001b[38;5;34m24\u001b[0m)             │           \u001b[38;5;34m984\u001b[0m │\n",
       "└─────────────────────────────────┴────────────────────────┴───────────────┘\n"
      ]
     },
     "metadata": {},
     "output_type": "display_data"
    },
    {
     "data": {
      "text/html": [
       "<pre style=\"white-space:pre;overflow-x:auto;line-height:normal;font-family:Menlo,'DejaVu Sans Mono',consolas,'Courier New',monospace\"><span style=\"font-weight: bold\"> Total params: </span><span style=\"color: #00af00; text-decoration-color: #00af00\">35,704</span> (139.47 KB)\n",
       "</pre>\n"
      ],
      "text/plain": [
       "\u001b[1m Total params: \u001b[0m\u001b[38;5;34m35,704\u001b[0m (139.47 KB)\n"
      ]
     },
     "metadata": {},
     "output_type": "display_data"
    },
    {
     "data": {
      "text/html": [
       "<pre style=\"white-space:pre;overflow-x:auto;line-height:normal;font-family:Menlo,'DejaVu Sans Mono',consolas,'Courier New',monospace\"><span style=\"font-weight: bold\"> Trainable params: </span><span style=\"color: #00af00; text-decoration-color: #00af00\">35,464</span> (138.53 KB)\n",
       "</pre>\n"
      ],
      "text/plain": [
       "\u001b[1m Trainable params: \u001b[0m\u001b[38;5;34m35,464\u001b[0m (138.53 KB)\n"
      ]
     },
     "metadata": {},
     "output_type": "display_data"
    },
    {
     "data": {
      "text/html": [
       "<pre style=\"white-space:pre;overflow-x:auto;line-height:normal;font-family:Menlo,'DejaVu Sans Mono',consolas,'Courier New',monospace\"><span style=\"font-weight: bold\"> Non-trainable params: </span><span style=\"color: #00af00; text-decoration-color: #00af00\">240</span> (960.00 B)\n",
       "</pre>\n"
      ],
      "text/plain": [
       "\u001b[1m Non-trainable params: \u001b[0m\u001b[38;5;34m240\u001b[0m (960.00 B)\n"
      ]
     },
     "metadata": {},
     "output_type": "display_data"
    }
   ],
   "source": [
    "import tensorflow as tf\n",
    "from tensorflow.keras.layers import LSTM, BatchNormalization, Dense, Dropout, GlobalAveragePooling1D\n",
    "from tensorflow.keras.initializers import GlorotUniform\n",
    "\n",
    "\n",
    "model = tf.keras.Sequential([\n",
    "    # First LSTM layer\n",
    "    LSTM(\n",
    "        units=40,\n",
    "        return_sequences=True,  # Keep the sequence for the next LSTM\n",
    "        input_shape=(condition_window, features_length),\n",
    "        kernel_regularizer=tf.keras.regularizers.l1(l1_reg),\n",
    "        kernel_initializer=GlorotUniform(seed=42),\n",
    "        recurrent_initializer=GlorotUniform(seed=43),\n",
    "    ),\n",
    "    Dropout(dropout_rate),  # Dropout layer after the first LSTM\n",
    "    BatchNormalization(),\n",
    "    LSTM(\n",
    "        units=40,\n",
    "        return_sequences=True,  # Only output the last time step\n",
    "        kernel_initializer=GlorotUniform(seed=46),\n",
    "        kernel_regularizer=tf.keras.regularizers.l1(l1_reg),\n",
    "        recurrent_initializer=GlorotUniform(seed=47),\n",
    "    ),\n",
    "    Dropout(dropout_rate),  \n",
    "    BatchNormalization(), \n",
    "        LSTM(\n",
    "        units=40,\n",
    "        return_sequences=False,  # Only output the last time step\n",
    "        kernel_initializer=GlorotUniform(seed=46),\n",
    "        kernel_regularizer=tf.keras.regularizers.l1(l1_reg),\n",
    "        recurrent_initializer=GlorotUniform(seed=47),\n",
    "    ),\n",
    "    # Dropout(dropout_rate),  # Dropout layer after the second LSTM\n",
    "    BatchNormalization(),\n",
    "    # Dropout(dropout_rate),\n",
    "    # Final Dense layer for 24-hour prediction\n",
    "    Dense(\n",
    "        units=24,  # Predict 24 values (for each hour of the day)\n",
    "        kernel_initializer=GlorotUniform(seed=54),\n",
    "        activation='linear'\n",
    "    )\n",
    "])\n",
    "\n",
    "\n",
    "model.compile(optimizer='adam', loss='mse')\n",
    "\n",
    "\n",
    "model.summary()\n"
   ]
  },
  {
   "cell_type": "code",
   "execution_count": 785,
   "metadata": {
    "colab": {},
    "colab_type": "code",
    "id": "fQK94oOxAsxI",
    "tags": []
   },
   "outputs": [],
   "source": [
    "from utils import r2_score, mean_error\n",
    "from tensorflow.keras.optimizers import Adam\n",
    "\n",
    "\n",
    "model.compile(\n",
    "    optimizer=Adam(learning_rate=0.008),\n",
    "    loss='mean_squared_error',\n",
    "    metrics=[\n",
    "        'mean_absolute_error',\n",
    "        mean_error,\n",
    "        r2_score,\n",
    "    ]\n",
    ")"
   ]
  },
  {
   "cell_type": "code",
   "execution_count": 786,
   "metadata": {
    "colab": {
     "base_uri": "https://localhost:8080/",
     "height": 768
    },
    "colab_type": "code",
    "id": "6j7pwBJRAsxJ",
    "outputId": "b9053e95-9b8c-4999-d220-c752a0490bdb",
    "tags": []
   },
   "outputs": [
    {
     "name": "stdout",
     "output_type": "stream",
     "text": [
      "Epoch 1/30\n",
      "\u001b[1m273/273\u001b[0m \u001b[32m━━━━━━━━━━━━━━━━━━━━\u001b[0m\u001b[37m\u001b[0m \u001b[1m7s\u001b[0m 10ms/step - loss: 65472.7969 - mean_absolute_error: 249.0944 - mean_error: -249.0911 - r2_score: -473.2616 - val_loss: 555.6659 - val_mean_absolute_error: 21.8804 - val_mean_error: -21.8390 - val_r2_score: -29.2604 - learning_rate: 0.0080\n",
      "Epoch 2/30\n",
      "\u001b[1m273/273\u001b[0m \u001b[32m━━━━━━━━━━━━━━━━━━━━\u001b[0m\u001b[37m\u001b[0m \u001b[1m2s\u001b[0m 9ms/step - loss: 138.3114 - mean_absolute_error: 8.8210 - mean_error: -7.2808 - r2_score: 0.0725 - val_loss: 30.6880 - val_mean_absolute_error: 3.8426 - val_mean_error: -0.4916 - val_r2_score: -0.1664 - learning_rate: 0.0080\n",
      "Epoch 3/30\n",
      "\u001b[1m273/273\u001b[0m \u001b[32m━━━━━━━━━━━━━━━━━━━━\u001b[0m\u001b[37m\u001b[0m \u001b[1m2s\u001b[0m 9ms/step - loss: 37.2784 - mean_absolute_error: 3.9423 - mean_error: 0.0304 - r2_score: 0.8162 - val_loss: 32.0169 - val_mean_absolute_error: 4.1772 - val_mean_error: -1.2437 - val_r2_score: -0.2923 - learning_rate: 0.0080\n",
      "Epoch 4/30\n",
      "\u001b[1m273/273\u001b[0m \u001b[32m━━━━━━━━━━━━━━━━━━━━\u001b[0m\u001b[37m\u001b[0m \u001b[1m2s\u001b[0m 9ms/step - loss: 22.8685 - mean_absolute_error: 3.3222 - mean_error: -0.0842 - r2_score: 0.8685 - val_loss: 16.1135 - val_mean_absolute_error: 2.6077 - val_mean_error: -0.5563 - val_r2_score: 0.5038 - learning_rate: 0.0080\n",
      "Epoch 5/30\n",
      "\u001b[1m273/273\u001b[0m \u001b[32m━━━━━━━━━━━━━━━━━━━━\u001b[0m\u001b[37m\u001b[0m \u001b[1m2s\u001b[0m 9ms/step - loss: 20.8051 - mean_absolute_error: 3.1477 - mean_error: 0.0363 - r2_score: 0.8809 - val_loss: 14.8764 - val_mean_absolute_error: 2.4302 - val_mean_error: -0.2679 - val_r2_score: 0.5715 - learning_rate: 0.0080\n",
      "Epoch 6/30\n",
      "\u001b[1m273/273\u001b[0m \u001b[32m━━━━━━━━━━━━━━━━━━━━\u001b[0m\u001b[37m\u001b[0m \u001b[1m2s\u001b[0m 9ms/step - loss: 19.9777 - mean_absolute_error: 3.0753 - mean_error: -0.0684 - r2_score: 0.8851 - val_loss: 19.2506 - val_mean_absolute_error: 3.0766 - val_mean_error: -2.0134 - val_r2_score: 0.2936 - learning_rate: 0.0080\n",
      "Epoch 7/30\n",
      "\u001b[1m273/273\u001b[0m \u001b[32m━━━━━━━━━━━━━━━━━━━━\u001b[0m\u001b[37m\u001b[0m \u001b[1m2s\u001b[0m 9ms/step - loss: 19.9590 - mean_absolute_error: 3.0621 - mean_error: -0.1338 - r2_score: 0.8847 - val_loss: 19.0384 - val_mean_absolute_error: 3.0561 - val_mean_error: -0.7666 - val_r2_score: 0.3469 - learning_rate: 0.0080\n",
      "Epoch 8/30\n",
      "\u001b[1m273/273\u001b[0m \u001b[32m━━━━━━━━━━━━━━━━━━━━\u001b[0m\u001b[37m\u001b[0m \u001b[1m2s\u001b[0m 9ms/step - loss: 19.2524 - mean_absolute_error: 3.0104 - mean_error: -0.0907 - r2_score: 0.8912 - val_loss: 25.3867 - val_mean_absolute_error: 3.6331 - val_mean_error: -2.5749 - val_r2_score: -0.0200 - learning_rate: 0.0080\n",
      "Epoch 9/30\n",
      "\u001b[1m273/273\u001b[0m \u001b[32m━━━━━━━━━━━━━━━━━━━━\u001b[0m\u001b[37m\u001b[0m \u001b[1m2s\u001b[0m 9ms/step - loss: 19.2548 - mean_absolute_error: 2.9868 - mean_error: 0.0146 - r2_score: 0.8932 - val_loss: 15.2903 - val_mean_absolute_error: 2.4522 - val_mean_error: -0.3595 - val_r2_score: 0.5434 - learning_rate: 0.0080\n",
      "Epoch 10/30\n",
      "\u001b[1m273/273\u001b[0m \u001b[32m━━━━━━━━━━━━━━━━━━━━\u001b[0m\u001b[37m\u001b[0m \u001b[1m0s\u001b[0m 8ms/step - loss: 18.8736 - mean_absolute_error: 2.9456 - mean_error: 7.3456e-04 - r2_score: 0.8942\n",
      "Epoch 10: ReduceLROnPlateau reducing learning rate to 0.000800000037997961.\n",
      "\u001b[1m273/273\u001b[0m \u001b[32m━━━━━━━━━━━━━━━━━━━━\u001b[0m\u001b[37m\u001b[0m \u001b[1m2s\u001b[0m 9ms/step - loss: 18.8723 - mean_absolute_error: 2.9455 - mean_error: 7.7385e-04 - r2_score: 0.8942 - val_loss: 15.7452 - val_mean_absolute_error: 2.5596 - val_mean_error: 0.5113 - val_r2_score: 0.5056 - learning_rate: 0.0080\n",
      "Epoch 11/30\n",
      "\u001b[1m273/273\u001b[0m \u001b[32m━━━━━━━━━━━━━━━━━━━━\u001b[0m\u001b[37m\u001b[0m \u001b[1m2s\u001b[0m 9ms/step - loss: 15.2957 - mean_absolute_error: 2.7654 - mean_error: -0.0667 - r2_score: 0.9055 - val_loss: 11.8454 - val_mean_absolute_error: 2.3791 - val_mean_error: -0.0951 - val_r2_score: 0.5773 - learning_rate: 8.0000e-04\n",
      "Epoch 12/30\n",
      "\u001b[1m273/273\u001b[0m \u001b[32m━━━━━━━━━━━━━━━━━━━━\u001b[0m\u001b[37m\u001b[0m \u001b[1m2s\u001b[0m 9ms/step - loss: 14.1560 - mean_absolute_error: 2.7078 - mean_error: -0.0760 - r2_score: 0.9100 - val_loss: 11.0253 - val_mean_absolute_error: 2.2335 - val_mean_error: -0.1912 - val_r2_score: 0.6265 - learning_rate: 8.0000e-04\n",
      "Epoch 13/30\n",
      "\u001b[1m273/273\u001b[0m \u001b[32m━━━━━━━━━━━━━━━━━━━━\u001b[0m\u001b[37m\u001b[0m \u001b[1m2s\u001b[0m 9ms/step - loss: 13.7726 - mean_absolute_error: 2.6783 - mean_error: -0.0445 - r2_score: 0.9127 - val_loss: 11.3491 - val_mean_absolute_error: 2.2730 - val_mean_error: 0.5336 - val_r2_score: 0.6015 - learning_rate: 8.0000e-04\n",
      "Epoch 14/30\n",
      "\u001b[1m273/273\u001b[0m \u001b[32m━━━━━━━━━━━━━━━━━━━━\u001b[0m\u001b[37m\u001b[0m \u001b[1m2s\u001b[0m 9ms/step - loss: 14.0797 - mean_absolute_error: 2.7219 - mean_error: -0.0748 - r2_score: 0.9100 - val_loss: 11.9350 - val_mean_absolute_error: 2.3177 - val_mean_error: 0.7099 - val_r2_score: 0.5710 - learning_rate: 8.0000e-04\n",
      "Epoch 15/30\n",
      "\u001b[1m273/273\u001b[0m \u001b[32m━━━━━━━━━━━━━━━━━━━━\u001b[0m\u001b[37m\u001b[0m \u001b[1m2s\u001b[0m 9ms/step - loss: 14.0588 - mean_absolute_error: 2.7125 - mean_error: -0.0337 - r2_score: 0.9104 - val_loss: 11.6229 - val_mean_absolute_error: 2.3134 - val_mean_error: 0.8442 - val_r2_score: 0.5870 - learning_rate: 8.0000e-04\n",
      "Epoch 16/30\n",
      "\u001b[1m273/273\u001b[0m \u001b[32m━━━━━━━━━━━━━━━━━━━━\u001b[0m\u001b[37m\u001b[0m \u001b[1m2s\u001b[0m 9ms/step - loss: 13.8947 - mean_absolute_error: 2.7013 - mean_error: -0.0553 - r2_score: 0.9110 - val_loss: 11.2498 - val_mean_absolute_error: 2.2627 - val_mean_error: -0.3828 - val_r2_score: 0.6278 - learning_rate: 8.0000e-04\n",
      "Epoch 17/30\n",
      "\u001b[1m267/273\u001b[0m \u001b[32m━━━━━━━━━━━━━━━━━━━\u001b[0m\u001b[37m━\u001b[0m \u001b[1m0s\u001b[0m 8ms/step - loss: 13.9938 - mean_absolute_error: 2.7213 - mean_error: -0.0822 - r2_score: 0.9102\n",
      "Epoch 17: ReduceLROnPlateau reducing learning rate to 8.000000379979611e-05.\n",
      "\u001b[1m273/273\u001b[0m \u001b[32m━━━━━━━━━━━━━━━━━━━━\u001b[0m\u001b[37m\u001b[0m \u001b[1m2s\u001b[0m 9ms/step - loss: 13.9914 - mean_absolute_error: 2.7209 - mean_error: -0.0810 - r2_score: 0.9102 - val_loss: 11.6456 - val_mean_absolute_error: 2.3337 - val_mean_error: -0.0980 - val_r2_score: 0.5852 - learning_rate: 8.0000e-04\n",
      "Epoch 18/30\n",
      "\u001b[1m273/273\u001b[0m \u001b[32m━━━━━━━━━━━━━━━━━━━━\u001b[0m\u001b[37m\u001b[0m \u001b[1m2s\u001b[0m 9ms/step - loss: 13.2682 - mean_absolute_error: 2.6597 - mean_error: 0.1049 - r2_score: 0.9154 - val_loss: 10.7849 - val_mean_absolute_error: 2.2517 - val_mean_error: -0.0661 - val_r2_score: 0.6191 - learning_rate: 8.0000e-05\n",
      "Epoch 19/30\n",
      "\u001b[1m273/273\u001b[0m \u001b[32m━━━━━━━━━━━━━━━━━━━━\u001b[0m\u001b[37m\u001b[0m \u001b[1m2s\u001b[0m 9ms/step - loss: 12.8738 - mean_absolute_error: 2.6158 - mean_error: 0.0627 - r2_score: 0.9166 - val_loss: 10.7851 - val_mean_absolute_error: 2.2585 - val_mean_error: -0.1234 - val_r2_score: 0.6174 - learning_rate: 8.0000e-05\n",
      "Epoch 20/30\n",
      "\u001b[1m273/273\u001b[0m \u001b[32m━━━━━━━━━━━━━━━━━━━━\u001b[0m\u001b[37m\u001b[0m \u001b[1m2s\u001b[0m 9ms/step - loss: 13.0797 - mean_absolute_error: 2.6526 - mean_error: 0.0255 - r2_score: 0.9147 - val_loss: 10.9821 - val_mean_absolute_error: 2.2694 - val_mean_error: 0.3424 - val_r2_score: 0.6055 - learning_rate: 8.0000e-05\n",
      "Epoch 21/30\n",
      "\u001b[1m273/273\u001b[0m \u001b[32m━━━━━━━━━━━━━━━━━━━━\u001b[0m\u001b[37m\u001b[0m \u001b[1m2s\u001b[0m 9ms/step - loss: 13.0028 - mean_absolute_error: 2.6493 - mean_error: -0.0139 - r2_score: 0.9145 - val_loss: 10.7810 - val_mean_absolute_error: 2.2578 - val_mean_error: -0.1202 - val_r2_score: 0.6204 - learning_rate: 8.0000e-05\n",
      "Epoch 22/30\n",
      "\u001b[1m273/273\u001b[0m \u001b[32m━━━━━━━━━━━━━━━━━━━━\u001b[0m\u001b[37m\u001b[0m \u001b[1m2s\u001b[0m 9ms/step - loss: 12.8951 - mean_absolute_error: 2.6374 - mean_error: -0.0166 - r2_score: 0.9156 - val_loss: 10.7124 - val_mean_absolute_error: 2.2416 - val_mean_error: -0.0313 - val_r2_score: 0.6237 - learning_rate: 8.0000e-05\n",
      "Epoch 23/30\n",
      "\u001b[1m267/273\u001b[0m \u001b[32m━━━━━━━━━━━━━━━━━━━\u001b[0m\u001b[37m━\u001b[0m \u001b[1m0s\u001b[0m 8ms/step - loss: 13.2457 - mean_absolute_error: 2.6824 - mean_error: -0.0099 - r2_score: 0.9135\n",
      "Epoch 23: ReduceLROnPlateau reducing learning rate to 8.000000525498762e-06.\n",
      "\u001b[1m273/273\u001b[0m \u001b[32m━━━━━━━━━━━━━━━━━━━━\u001b[0m\u001b[37m\u001b[0m \u001b[1m2s\u001b[0m 9ms/step - loss: 13.2471 - mean_absolute_error: 2.6824 - mean_error: -0.0092 - r2_score: 0.9135 - val_loss: 11.0578 - val_mean_absolute_error: 2.3117 - val_mean_error: -0.0656 - val_r2_score: 0.5991 - learning_rate: 8.0000e-05\n",
      "Epoch 24/30\n",
      "\u001b[1m273/273\u001b[0m \u001b[32m━━━━━━━━━━━━━━━━━━━━\u001b[0m\u001b[37m\u001b[0m \u001b[1m2s\u001b[0m 9ms/step - loss: 13.0727 - mean_absolute_error: 2.6639 - mean_error: 0.0609 - r2_score: 0.9151 - val_loss: 10.8358 - val_mean_absolute_error: 2.2791 - val_mean_error: -0.2116 - val_r2_score: 0.6130 - learning_rate: 8.0000e-06\n",
      "Epoch 25/30\n",
      "\u001b[1m273/273\u001b[0m \u001b[32m━━━━━━━━━━━━━━━━━━━━\u001b[0m\u001b[37m\u001b[0m \u001b[1m2s\u001b[0m 9ms/step - loss: 12.9612 - mean_absolute_error: 2.6496 - mean_error: 0.0741 - r2_score: 0.9155 - val_loss: 10.7781 - val_mean_absolute_error: 2.2663 - val_mean_error: -0.1596 - val_r2_score: 0.6166 - learning_rate: 8.0000e-06\n",
      "Epoch 26/30\n",
      "\u001b[1m273/273\u001b[0m \u001b[32m━━━━━━━━━━━━━━━━━━━━\u001b[0m\u001b[37m\u001b[0m \u001b[1m2s\u001b[0m 9ms/step - loss: 12.9646 - mean_absolute_error: 2.6511 - mean_error: -0.0573 - r2_score: 0.9142 - val_loss: 10.7536 - val_mean_absolute_error: 2.2558 - val_mean_error: -0.0093 - val_r2_score: 0.6180 - learning_rate: 8.0000e-06\n",
      "Epoch 27/30\n",
      "\u001b[1m273/273\u001b[0m \u001b[32m━━━━━━━━━━━━━━━━━━━━\u001b[0m\u001b[37m\u001b[0m \u001b[1m2s\u001b[0m 9ms/step - loss: 12.9848 - mean_absolute_error: 2.6445 - mean_error: 0.0293 - r2_score: 0.9140 - val_loss: 10.7557 - val_mean_absolute_error: 2.2570 - val_mean_error: -0.0469 - val_r2_score: 0.6183 - learning_rate: 8.0000e-06\n",
      "Epoch 28/30\n",
      "\u001b[1m273/273\u001b[0m \u001b[32m━━━━━━━━━━━━━━━━━━━━\u001b[0m\u001b[37m\u001b[0m \u001b[1m2s\u001b[0m 9ms/step - loss: 12.6412 - mean_absolute_error: 2.6074 - mean_error: -0.0101 - r2_score: 0.9179 - val_loss: 10.7778 - val_mean_absolute_error: 2.2637 - val_mean_error: -0.0789 - val_r2_score: 0.6156 - learning_rate: 8.0000e-06\n",
      "CPU times: user 1min 27s, sys: 6.21 s, total: 1min 33s\n",
      "Wall time: 1min 11s\n"
     ]
    }
   ],
   "source": [
    "%%time\n",
    "\n",
    "from tensorflow.keras.callbacks import TerminateOnNaN, ReduceLROnPlateau, EarlyStopping\n",
    "\n",
    "\n",
    "history = model.fit(\n",
    "    train_X_nd,\n",
    "    train_y_nd,\n",
    "    validation_data=(validate_X_nd, validate_y_nd),\n",
    "    epochs=30,\n",
    "    batch_size=100,\n",
    "    callbacks=[\n",
    "        TerminateOnNaN(),\n",
    "        ReduceLROnPlateau(\n",
    "            monitor='val_loss',\n",
    "            min_delta=0.1,\n",
    "            patience=5,\n",
    "            factor=0.1,\n",
    "            cooldown=2,\n",
    "            verbose=1\n",
    "        ),\n",
    "        EarlyStopping(\n",
    "            monitor='val_loss',\n",
    "            min_delta=0.1,\n",
    "            patience=10\n",
    "        )\n",
    "    ]\n",
    ")"
   ]
  },
  {
   "cell_type": "code",
   "execution_count": 787,
   "metadata": {
    "colab": {
     "base_uri": "https://localhost:8080/",
     "height": 111
    },
    "colab_type": "code",
    "id": "HjV3kM3NAsxL",
    "outputId": "bf1e244c-a6c1-4dd5-9134-ab1c0854415c",
    "tags": []
   },
   "outputs": [
    {
     "data": {
      "text/html": [
       "<div>\n",
       "<style scoped>\n",
       "    .dataframe tbody tr th:only-of-type {\n",
       "        vertical-align: middle;\n",
       "    }\n",
       "\n",
       "    .dataframe tbody tr th {\n",
       "        vertical-align: top;\n",
       "    }\n",
       "\n",
       "    .dataframe thead tr th {\n",
       "        text-align: left;\n",
       "    }\n",
       "</style>\n",
       "<table border=\"1\" class=\"dataframe\">\n",
       "  <thead>\n",
       "    <tr>\n",
       "      <th></th>\n",
       "      <th colspan=\"4\" halign=\"left\">train</th>\n",
       "      <th colspan=\"4\" halign=\"left\">validate</th>\n",
       "      <th colspan=\"4\" halign=\"left\">test</th>\n",
       "    </tr>\n",
       "    <tr>\n",
       "      <th></th>\n",
       "      <th>MSE</th>\n",
       "      <th>MAE</th>\n",
       "      <th>ME</th>\n",
       "      <th>R2</th>\n",
       "      <th>MSE</th>\n",
       "      <th>MAE</th>\n",
       "      <th>ME</th>\n",
       "      <th>R2</th>\n",
       "      <th>MSE</th>\n",
       "      <th>MAE</th>\n",
       "      <th>ME</th>\n",
       "      <th>R2</th>\n",
       "    </tr>\n",
       "  </thead>\n",
       "  <tbody>\n",
       "    <tr>\n",
       "      <th>rnn</th>\n",
       "      <td>10.46</td>\n",
       "      <td>2.3</td>\n",
       "      <td>-0.04</td>\n",
       "      <td>0.93</td>\n",
       "      <td>10.78</td>\n",
       "      <td>2.26</td>\n",
       "      <td>-0.09</td>\n",
       "      <td>0.93</td>\n",
       "      <td>15.57</td>\n",
       "      <td>2.88</td>\n",
       "      <td>-0.1</td>\n",
       "      <td>0.87</td>\n",
       "    </tr>\n",
       "  </tbody>\n",
       "</table>\n",
       "</div>"
      ],
      "text/plain": [
       "     train                  validate                     test                 \n",
       "       MSE  MAE    ME    R2      MSE   MAE    ME    R2    MSE   MAE   ME    R2\n",
       "rnn  10.46  2.3 -0.04  0.93    10.78  2.26 -0.09  0.93  15.57  2.88 -0.1  0.87"
      ]
     },
     "execution_count": 787,
     "metadata": {},
     "output_type": "execute_result"
    }
   ],
   "source": [
    "\n",
    "\n",
    "nd_array_by_segment = {\n",
    "    'train': (train_X_nd, train_y_nd),\n",
    "    'validate': (validate_X_nd, validate_y_nd),\n",
    "    'test': (test_X_nd, test_y_nd)\n",
    "}\n",
    "\n",
    "metrics_by_segment = {\n",
    "    segment: model.evaluate(\n",
    "        X_nd, \n",
    "        y_nd, \n",
    "        verbose=0, \n",
    "        batch_size=X_nd.shape[0]\n",
    "    )\n",
    "    for segment, (X_nd, y_nd) in nd_array_by_segment.items()\n",
    "}\n",
    "\n",
    "rnn_metrics = pd.concat([\n",
    "    pd.DataFrame(\n",
    "        data=[metrics], \n",
    "        columns=['MSE', 'MAE', 'ME', 'R2'], \n",
    "        index=[segment]\n",
    "    )\n",
    "    for segment, metrics in metrics_by_segment.items()\n",
    "])\n",
    "\n",
    "rnn_metrics = pd.DataFrame([rnn_metrics.unstack()], index=['rnn'])\\\n",
    "    .swaplevel(axis=1, i=0, j=1)\\\n",
    "    .reindex(nd_array_by_segment.keys(), axis=1, level=0)\\\n",
    "    .round(2)\n",
    "\n",
    "rnn_metrics"
   ]
  },
  {
   "cell_type": "code",
   "execution_count": null,
   "metadata": {},
   "outputs": [],
   "source": []
  },
  {
   "cell_type": "code",
   "execution_count": 788,
   "metadata": {
    "colab": {},
    "colab_type": "code",
    "id": "KYaptXSgAsxM",
    "tags": []
   },
   "outputs": [
    {
     "name": "stderr",
     "output_type": "stream",
     "text": [
      "/home/sagemaker-user/collegium/m03_rnn/utils.py:263: FutureWarning: The previous implementation of stack is deprecated and will be removed in a future version of pandas. See the What's New notes for pandas 2.1.0 for details. Specify future_stack=True to adopt the new implementation and silence this warning.\n",
      "  return reg.stack(\"time\")\n",
      "/home/sagemaker-user/collegium/m03_rnn/utils.py:263: FutureWarning: The previous implementation of stack is deprecated and will be removed in a future version of pandas. See the What's New notes for pandas 2.1.0 for details. Specify future_stack=True to adopt the new implementation and silence this warning.\n",
      "  return reg.stack(\"time\")\n"
     ]
    }
   ],
   "source": [
    "from utils import SegmentDataset, baseline_metrics\n",
    "\n",
    "segment_names = ['train', 'validate']\n",
    "panel_dataset = SegmentDataset.from_pq_workdir(prefix, segment_names, ['x', 'y'])\n",
    "baseline_metrics = baseline_metrics(panel_dataset)"
   ]
  },
  {
   "cell_type": "code",
   "execution_count": 789,
   "metadata": {
    "colab": {
     "base_uri": "https://localhost:8080/",
     "height": 204
    },
    "colab_type": "code",
    "id": "d3g0CfgSAsxO",
    "outputId": "78c898b3-eab4-4ddb-86f7-8ed3469ca977",
    "tags": []
   },
   "outputs": [
    {
     "data": {
      "text/html": [
       "<div>\n",
       "<style scoped>\n",
       "    .dataframe tbody tr th:only-of-type {\n",
       "        vertical-align: middle;\n",
       "    }\n",
       "\n",
       "    .dataframe tbody tr th {\n",
       "        vertical-align: top;\n",
       "    }\n",
       "\n",
       "    .dataframe thead tr th {\n",
       "        text-align: left;\n",
       "    }\n",
       "</style>\n",
       "<table border=\"1\" class=\"dataframe\">\n",
       "  <thead>\n",
       "    <tr>\n",
       "      <th></th>\n",
       "      <th colspan=\"2\" halign=\"left\">train</th>\n",
       "      <th colspan=\"2\" halign=\"left\">validate</th>\n",
       "    </tr>\n",
       "    <tr>\n",
       "      <th></th>\n",
       "      <th>MSE</th>\n",
       "      <th>R2</th>\n",
       "      <th>MSE</th>\n",
       "      <th>R2</th>\n",
       "    </tr>\n",
       "  </thead>\n",
       "  <tbody>\n",
       "    <tr>\n",
       "      <th>mean</th>\n",
       "      <td>26.77</td>\n",
       "      <td>0.80</td>\n",
       "      <td>37.23</td>\n",
       "      <td>0.58</td>\n",
       "    </tr>\n",
       "    <tr>\n",
       "      <th>constant</th>\n",
       "      <td>21.82</td>\n",
       "      <td>0.84</td>\n",
       "      <td>40.25</td>\n",
       "      <td>0.54</td>\n",
       "    </tr>\n",
       "    <tr>\n",
       "      <th>regression</th>\n",
       "      <td>30.53</td>\n",
       "      <td>0.78</td>\n",
       "      <td>29.94</td>\n",
       "      <td>0.66</td>\n",
       "    </tr>\n",
       "    <tr>\n",
       "      <th>rnn</th>\n",
       "      <td>10.46</td>\n",
       "      <td>0.93</td>\n",
       "      <td>10.78</td>\n",
       "      <td>0.93</td>\n",
       "    </tr>\n",
       "  </tbody>\n",
       "</table>\n",
       "</div>"
      ],
      "text/plain": [
       "            train       validate      \n",
       "              MSE    R2      MSE    R2\n",
       "mean        26.77  0.80    37.23  0.58\n",
       "constant    21.82  0.84    40.25  0.54\n",
       "regression  30.53  0.78    29.94  0.66\n",
       "rnn         10.46  0.93    10.78  0.93"
      ]
     },
     "execution_count": 789,
     "metadata": {},
     "output_type": "execute_result"
    }
   ],
   "source": [
    "pd.concat([\n",
    "    baseline_metrics,\n",
    "    rnn_metrics\n",
    "], axis=0).loc[:, [('train', 'MSE'), ('train', 'R2'), ('validate', 'MSE'), ('validate', 'R2')]].round(2)"
   ]
  },
  {
   "cell_type": "code",
   "execution_count": null,
   "metadata": {},
   "outputs": [],
   "source": []
  },
  {
   "cell_type": "code",
   "execution_count": 793,
   "metadata": {
    "colab": {
     "base_uri": "https://localhost:8080/",
     "height": 34
    },
    "colab_type": "code",
    "id": "utzcIZ7YJX2O",
    "outputId": "ba15402c-3bf7-4a29-fd51-702d33357c23",
    "tags": []
   },
   "outputs": [
    {
     "name": "stdout",
     "output_type": "stream",
     "text": [
      "\u001b[1m75/75\u001b[0m \u001b[32m━━━━━━━━━━━━━━━━━━━━\u001b[0m\u001b[37m\u001b[0m \u001b[1m0s\u001b[0m 2ms/step\n",
      "Index(['Temperature'], dtype='object') (57576, 1)\n"
     ]
    }
   ],
   "source": [
    "\n",
    "score_y_hat = model.predict(score_X_nd).ravel()\n",
    "score_y_hat = pd.DataFrame(score_y_hat)\n",
    "\n",
    "score_y_hat = pd.DataFrame(score_y_hat, columns=['Temperature'])\n",
    "\n",
    "print(score_y_hat.columns, score_y_hat.shape)"
   ]
  },
  {
   "cell_type": "code",
   "execution_count": 798,
   "metadata": {
    "colab": {},
    "colab_type": "code",
    "id": "doTzp2__DsMt",
    "tags": []
   },
   "outputs": [],
   "source": [
    "\n",
    "\n",
    "import os\n",
    "model_dir = 'weathernet_model'\n",
    "os.makedirs(model_dir, exist_ok=True)\n",
    "\n",
    "# Save model definition:\n",
    "import json\n",
    "with open(f'{model_dir}/keras_model.json', 'w') as f:\n",
    "    model_json = json.dumps(json.loads(model.to_json()), indent=True)\n",
    "    f.write(model_json)\n",
    "\n",
    "# Save the learned parameters.\n",
    "model.save_weights(f\"{model_dir}/model.weights.h5\")\n",
    "\n",
    "# Finally, let's save the forecast.\n",
    "score_y_hat.to_parquet(f'{model_dir}/score_y_hat.parquet')"
   ]
  },
  {
   "cell_type": "code",
   "execution_count": null,
   "metadata": {},
   "outputs": [],
   "source": []
  }
 ],
 "metadata": {
  "accelerator": "GPU",
  "availableInstances": [
   {
    "_defaultOrder": 0,
    "_isFastLaunch": true,
    "category": "General purpose",
    "gpuNum": 0,
    "hideHardwareSpecs": false,
    "memoryGiB": 4,
    "name": "ml.t3.medium",
    "vcpuNum": 2
   },
   {
    "_defaultOrder": 1,
    "_isFastLaunch": false,
    "category": "General purpose",
    "gpuNum": 0,
    "hideHardwareSpecs": false,
    "memoryGiB": 8,
    "name": "ml.t3.large",
    "vcpuNum": 2
   },
   {
    "_defaultOrder": 2,
    "_isFastLaunch": false,
    "category": "General purpose",
    "gpuNum": 0,
    "hideHardwareSpecs": false,
    "memoryGiB": 16,
    "name": "ml.t3.xlarge",
    "vcpuNum": 4
   },
   {
    "_defaultOrder": 3,
    "_isFastLaunch": false,
    "category": "General purpose",
    "gpuNum": 0,
    "hideHardwareSpecs": false,
    "memoryGiB": 32,
    "name": "ml.t3.2xlarge",
    "vcpuNum": 8
   },
   {
    "_defaultOrder": 4,
    "_isFastLaunch": true,
    "category": "General purpose",
    "gpuNum": 0,
    "hideHardwareSpecs": false,
    "memoryGiB": 8,
    "name": "ml.m5.large",
    "vcpuNum": 2
   },
   {
    "_defaultOrder": 5,
    "_isFastLaunch": false,
    "category": "General purpose",
    "gpuNum": 0,
    "hideHardwareSpecs": false,
    "memoryGiB": 16,
    "name": "ml.m5.xlarge",
    "vcpuNum": 4
   },
   {
    "_defaultOrder": 6,
    "_isFastLaunch": false,
    "category": "General purpose",
    "gpuNum": 0,
    "hideHardwareSpecs": false,
    "memoryGiB": 32,
    "name": "ml.m5.2xlarge",
    "vcpuNum": 8
   },
   {
    "_defaultOrder": 7,
    "_isFastLaunch": false,
    "category": "General purpose",
    "gpuNum": 0,
    "hideHardwareSpecs": false,
    "memoryGiB": 64,
    "name": "ml.m5.4xlarge",
    "vcpuNum": 16
   },
   {
    "_defaultOrder": 8,
    "_isFastLaunch": false,
    "category": "General purpose",
    "gpuNum": 0,
    "hideHardwareSpecs": false,
    "memoryGiB": 128,
    "name": "ml.m5.8xlarge",
    "vcpuNum": 32
   },
   {
    "_defaultOrder": 9,
    "_isFastLaunch": false,
    "category": "General purpose",
    "gpuNum": 0,
    "hideHardwareSpecs": false,
    "memoryGiB": 192,
    "name": "ml.m5.12xlarge",
    "vcpuNum": 48
   },
   {
    "_defaultOrder": 10,
    "_isFastLaunch": false,
    "category": "General purpose",
    "gpuNum": 0,
    "hideHardwareSpecs": false,
    "memoryGiB": 256,
    "name": "ml.m5.16xlarge",
    "vcpuNum": 64
   },
   {
    "_defaultOrder": 11,
    "_isFastLaunch": false,
    "category": "General purpose",
    "gpuNum": 0,
    "hideHardwareSpecs": false,
    "memoryGiB": 384,
    "name": "ml.m5.24xlarge",
    "vcpuNum": 96
   },
   {
    "_defaultOrder": 12,
    "_isFastLaunch": false,
    "category": "General purpose",
    "gpuNum": 0,
    "hideHardwareSpecs": false,
    "memoryGiB": 8,
    "name": "ml.m5d.large",
    "vcpuNum": 2
   },
   {
    "_defaultOrder": 13,
    "_isFastLaunch": false,
    "category": "General purpose",
    "gpuNum": 0,
    "hideHardwareSpecs": false,
    "memoryGiB": 16,
    "name": "ml.m5d.xlarge",
    "vcpuNum": 4
   },
   {
    "_defaultOrder": 14,
    "_isFastLaunch": false,
    "category": "General purpose",
    "gpuNum": 0,
    "hideHardwareSpecs": false,
    "memoryGiB": 32,
    "name": "ml.m5d.2xlarge",
    "vcpuNum": 8
   },
   {
    "_defaultOrder": 15,
    "_isFastLaunch": false,
    "category": "General purpose",
    "gpuNum": 0,
    "hideHardwareSpecs": false,
    "memoryGiB": 64,
    "name": "ml.m5d.4xlarge",
    "vcpuNum": 16
   },
   {
    "_defaultOrder": 16,
    "_isFastLaunch": false,
    "category": "General purpose",
    "gpuNum": 0,
    "hideHardwareSpecs": false,
    "memoryGiB": 128,
    "name": "ml.m5d.8xlarge",
    "vcpuNum": 32
   },
   {
    "_defaultOrder": 17,
    "_isFastLaunch": false,
    "category": "General purpose",
    "gpuNum": 0,
    "hideHardwareSpecs": false,
    "memoryGiB": 192,
    "name": "ml.m5d.12xlarge",
    "vcpuNum": 48
   },
   {
    "_defaultOrder": 18,
    "_isFastLaunch": false,
    "category": "General purpose",
    "gpuNum": 0,
    "hideHardwareSpecs": false,
    "memoryGiB": 256,
    "name": "ml.m5d.16xlarge",
    "vcpuNum": 64
   },
   {
    "_defaultOrder": 19,
    "_isFastLaunch": false,
    "category": "General purpose",
    "gpuNum": 0,
    "hideHardwareSpecs": false,
    "memoryGiB": 384,
    "name": "ml.m5d.24xlarge",
    "vcpuNum": 96
   },
   {
    "_defaultOrder": 20,
    "_isFastLaunch": false,
    "category": "General purpose",
    "gpuNum": 0,
    "hideHardwareSpecs": true,
    "memoryGiB": 0,
    "name": "ml.geospatial.interactive",
    "supportedImageNames": [
     "sagemaker-geospatial-v1-0"
    ],
    "vcpuNum": 0
   },
   {
    "_defaultOrder": 21,
    "_isFastLaunch": true,
    "category": "Compute optimized",
    "gpuNum": 0,
    "hideHardwareSpecs": false,
    "memoryGiB": 4,
    "name": "ml.c5.large",
    "vcpuNum": 2
   },
   {
    "_defaultOrder": 22,
    "_isFastLaunch": false,
    "category": "Compute optimized",
    "gpuNum": 0,
    "hideHardwareSpecs": false,
    "memoryGiB": 8,
    "name": "ml.c5.xlarge",
    "vcpuNum": 4
   },
   {
    "_defaultOrder": 23,
    "_isFastLaunch": false,
    "category": "Compute optimized",
    "gpuNum": 0,
    "hideHardwareSpecs": false,
    "memoryGiB": 16,
    "name": "ml.c5.2xlarge",
    "vcpuNum": 8
   },
   {
    "_defaultOrder": 24,
    "_isFastLaunch": false,
    "category": "Compute optimized",
    "gpuNum": 0,
    "hideHardwareSpecs": false,
    "memoryGiB": 32,
    "name": "ml.c5.4xlarge",
    "vcpuNum": 16
   },
   {
    "_defaultOrder": 25,
    "_isFastLaunch": false,
    "category": "Compute optimized",
    "gpuNum": 0,
    "hideHardwareSpecs": false,
    "memoryGiB": 72,
    "name": "ml.c5.9xlarge",
    "vcpuNum": 36
   },
   {
    "_defaultOrder": 26,
    "_isFastLaunch": false,
    "category": "Compute optimized",
    "gpuNum": 0,
    "hideHardwareSpecs": false,
    "memoryGiB": 96,
    "name": "ml.c5.12xlarge",
    "vcpuNum": 48
   },
   {
    "_defaultOrder": 27,
    "_isFastLaunch": false,
    "category": "Compute optimized",
    "gpuNum": 0,
    "hideHardwareSpecs": false,
    "memoryGiB": 144,
    "name": "ml.c5.18xlarge",
    "vcpuNum": 72
   },
   {
    "_defaultOrder": 28,
    "_isFastLaunch": false,
    "category": "Compute optimized",
    "gpuNum": 0,
    "hideHardwareSpecs": false,
    "memoryGiB": 192,
    "name": "ml.c5.24xlarge",
    "vcpuNum": 96
   },
   {
    "_defaultOrder": 29,
    "_isFastLaunch": true,
    "category": "Accelerated computing",
    "gpuNum": 1,
    "hideHardwareSpecs": false,
    "memoryGiB": 16,
    "name": "ml.g4dn.xlarge",
    "vcpuNum": 4
   },
   {
    "_defaultOrder": 30,
    "_isFastLaunch": false,
    "category": "Accelerated computing",
    "gpuNum": 1,
    "hideHardwareSpecs": false,
    "memoryGiB": 32,
    "name": "ml.g4dn.2xlarge",
    "vcpuNum": 8
   },
   {
    "_defaultOrder": 31,
    "_isFastLaunch": false,
    "category": "Accelerated computing",
    "gpuNum": 1,
    "hideHardwareSpecs": false,
    "memoryGiB": 64,
    "name": "ml.g4dn.4xlarge",
    "vcpuNum": 16
   },
   {
    "_defaultOrder": 32,
    "_isFastLaunch": false,
    "category": "Accelerated computing",
    "gpuNum": 1,
    "hideHardwareSpecs": false,
    "memoryGiB": 128,
    "name": "ml.g4dn.8xlarge",
    "vcpuNum": 32
   },
   {
    "_defaultOrder": 33,
    "_isFastLaunch": false,
    "category": "Accelerated computing",
    "gpuNum": 4,
    "hideHardwareSpecs": false,
    "memoryGiB": 192,
    "name": "ml.g4dn.12xlarge",
    "vcpuNum": 48
   },
   {
    "_defaultOrder": 34,
    "_isFastLaunch": false,
    "category": "Accelerated computing",
    "gpuNum": 1,
    "hideHardwareSpecs": false,
    "memoryGiB": 256,
    "name": "ml.g4dn.16xlarge",
    "vcpuNum": 64
   },
   {
    "_defaultOrder": 35,
    "_isFastLaunch": false,
    "category": "Accelerated computing",
    "gpuNum": 1,
    "hideHardwareSpecs": false,
    "memoryGiB": 61,
    "name": "ml.p3.2xlarge",
    "vcpuNum": 8
   },
   {
    "_defaultOrder": 36,
    "_isFastLaunch": false,
    "category": "Accelerated computing",
    "gpuNum": 4,
    "hideHardwareSpecs": false,
    "memoryGiB": 244,
    "name": "ml.p3.8xlarge",
    "vcpuNum": 32
   },
   {
    "_defaultOrder": 37,
    "_isFastLaunch": false,
    "category": "Accelerated computing",
    "gpuNum": 8,
    "hideHardwareSpecs": false,
    "memoryGiB": 488,
    "name": "ml.p3.16xlarge",
    "vcpuNum": 64
   },
   {
    "_defaultOrder": 38,
    "_isFastLaunch": false,
    "category": "Accelerated computing",
    "gpuNum": 8,
    "hideHardwareSpecs": false,
    "memoryGiB": 768,
    "name": "ml.p3dn.24xlarge",
    "vcpuNum": 96
   },
   {
    "_defaultOrder": 39,
    "_isFastLaunch": false,
    "category": "Memory Optimized",
    "gpuNum": 0,
    "hideHardwareSpecs": false,
    "memoryGiB": 16,
    "name": "ml.r5.large",
    "vcpuNum": 2
   },
   {
    "_defaultOrder": 40,
    "_isFastLaunch": false,
    "category": "Memory Optimized",
    "gpuNum": 0,
    "hideHardwareSpecs": false,
    "memoryGiB": 32,
    "name": "ml.r5.xlarge",
    "vcpuNum": 4
   },
   {
    "_defaultOrder": 41,
    "_isFastLaunch": false,
    "category": "Memory Optimized",
    "gpuNum": 0,
    "hideHardwareSpecs": false,
    "memoryGiB": 64,
    "name": "ml.r5.2xlarge",
    "vcpuNum": 8
   },
   {
    "_defaultOrder": 42,
    "_isFastLaunch": false,
    "category": "Memory Optimized",
    "gpuNum": 0,
    "hideHardwareSpecs": false,
    "memoryGiB": 128,
    "name": "ml.r5.4xlarge",
    "vcpuNum": 16
   },
   {
    "_defaultOrder": 43,
    "_isFastLaunch": false,
    "category": "Memory Optimized",
    "gpuNum": 0,
    "hideHardwareSpecs": false,
    "memoryGiB": 256,
    "name": "ml.r5.8xlarge",
    "vcpuNum": 32
   },
   {
    "_defaultOrder": 44,
    "_isFastLaunch": false,
    "category": "Memory Optimized",
    "gpuNum": 0,
    "hideHardwareSpecs": false,
    "memoryGiB": 384,
    "name": "ml.r5.12xlarge",
    "vcpuNum": 48
   },
   {
    "_defaultOrder": 45,
    "_isFastLaunch": false,
    "category": "Memory Optimized",
    "gpuNum": 0,
    "hideHardwareSpecs": false,
    "memoryGiB": 512,
    "name": "ml.r5.16xlarge",
    "vcpuNum": 64
   },
   {
    "_defaultOrder": 46,
    "_isFastLaunch": false,
    "category": "Memory Optimized",
    "gpuNum": 0,
    "hideHardwareSpecs": false,
    "memoryGiB": 768,
    "name": "ml.r5.24xlarge",
    "vcpuNum": 96
   },
   {
    "_defaultOrder": 47,
    "_isFastLaunch": false,
    "category": "Accelerated computing",
    "gpuNum": 1,
    "hideHardwareSpecs": false,
    "memoryGiB": 16,
    "name": "ml.g5.xlarge",
    "vcpuNum": 4
   },
   {
    "_defaultOrder": 48,
    "_isFastLaunch": false,
    "category": "Accelerated computing",
    "gpuNum": 1,
    "hideHardwareSpecs": false,
    "memoryGiB": 32,
    "name": "ml.g5.2xlarge",
    "vcpuNum": 8
   },
   {
    "_defaultOrder": 49,
    "_isFastLaunch": false,
    "category": "Accelerated computing",
    "gpuNum": 1,
    "hideHardwareSpecs": false,
    "memoryGiB": 64,
    "name": "ml.g5.4xlarge",
    "vcpuNum": 16
   },
   {
    "_defaultOrder": 50,
    "_isFastLaunch": false,
    "category": "Accelerated computing",
    "gpuNum": 1,
    "hideHardwareSpecs": false,
    "memoryGiB": 128,
    "name": "ml.g5.8xlarge",
    "vcpuNum": 32
   },
   {
    "_defaultOrder": 51,
    "_isFastLaunch": false,
    "category": "Accelerated computing",
    "gpuNum": 1,
    "hideHardwareSpecs": false,
    "memoryGiB": 256,
    "name": "ml.g5.16xlarge",
    "vcpuNum": 64
   },
   {
    "_defaultOrder": 52,
    "_isFastLaunch": false,
    "category": "Accelerated computing",
    "gpuNum": 4,
    "hideHardwareSpecs": false,
    "memoryGiB": 192,
    "name": "ml.g5.12xlarge",
    "vcpuNum": 48
   },
   {
    "_defaultOrder": 53,
    "_isFastLaunch": false,
    "category": "Accelerated computing",
    "gpuNum": 4,
    "hideHardwareSpecs": false,
    "memoryGiB": 384,
    "name": "ml.g5.24xlarge",
    "vcpuNum": 96
   },
   {
    "_defaultOrder": 54,
    "_isFastLaunch": false,
    "category": "Accelerated computing",
    "gpuNum": 8,
    "hideHardwareSpecs": false,
    "memoryGiB": 768,
    "name": "ml.g5.48xlarge",
    "vcpuNum": 192
   },
   {
    "_defaultOrder": 55,
    "_isFastLaunch": false,
    "category": "Accelerated computing",
    "gpuNum": 8,
    "hideHardwareSpecs": false,
    "memoryGiB": 1152,
    "name": "ml.p4d.24xlarge",
    "vcpuNum": 96
   },
   {
    "_defaultOrder": 56,
    "_isFastLaunch": false,
    "category": "Accelerated computing",
    "gpuNum": 8,
    "hideHardwareSpecs": false,
    "memoryGiB": 1152,
    "name": "ml.p4de.24xlarge",
    "vcpuNum": 96
   },
   {
    "_defaultOrder": 57,
    "_isFastLaunch": false,
    "category": "Accelerated computing",
    "gpuNum": 0,
    "hideHardwareSpecs": false,
    "memoryGiB": 32,
    "name": "ml.trn1.2xlarge",
    "vcpuNum": 8
   },
   {
    "_defaultOrder": 58,
    "_isFastLaunch": false,
    "category": "Accelerated computing",
    "gpuNum": 0,
    "hideHardwareSpecs": false,
    "memoryGiB": 512,
    "name": "ml.trn1.32xlarge",
    "vcpuNum": 128
   },
   {
    "_defaultOrder": 59,
    "_isFastLaunch": false,
    "category": "Accelerated computing",
    "gpuNum": 0,
    "hideHardwareSpecs": false,
    "memoryGiB": 512,
    "name": "ml.trn1n.32xlarge",
    "vcpuNum": 128
   }
  ],
  "colab": {
   "name": "WeatherForecast.ipynb",
   "provenance": []
  },
  "instance_type": "ml.g4dn.4xlarge",
  "kernelspec": {
   "display_name": "collegium (collegium/23)",
   "language": "python",
   "name": "collegium__SAGEMAKER_INTERNAL__arn:aws:sagemaker:us-west-2:081606037347:image-version/collegium/23"
  },
  "language_info": {
   "codemirror_mode": {
    "name": "ipython",
    "version": 3
   },
   "file_extension": ".py",
   "mimetype": "text/x-python",
   "name": "python",
   "nbconvert_exporter": "python",
   "pygments_lexer": "ipython3",
   "version": "3.10.15"
  },
  "lcc_arn": "arn:aws:sagemaker:us-west-2:081606037347:studio-lifecycle-config/collegium-kernel-r4"
 },
 "nbformat": 4,
 "nbformat_minor": 4
}
